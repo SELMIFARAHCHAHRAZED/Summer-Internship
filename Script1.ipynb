{
  "nbformat": 4,
  "nbformat_minor": 0,
  "metadata": {
    "colab": {
      "provenance": []
    },
    "kernelspec": {
      "name": "python3",
      "display_name": "Python 3"
    },
    "language_info": {
      "name": "python"
    }
  },
  "cells": [
    {
      "cell_type": "code",
      "source": [
        "pip install fitz"
      ],
      "metadata": {
        "colab": {
          "base_uri": "https://localhost:8080/",
          "height": 1000
        },
        "id": "DYdZWHksWg7p",
        "outputId": "bf21600c-124e-464c-c6e9-b0a1561e62b8"
      },
      "execution_count": null,
      "outputs": [
        {
          "output_type": "stream",
          "name": "stdout",
          "text": [
            "Collecting fitz\n",
            "  Downloading fitz-0.0.1.dev2-py2.py3-none-any.whl (20 kB)\n",
            "Collecting configobj (from fitz)\n",
            "  Downloading configobj-5.0.8-py2.py3-none-any.whl (36 kB)\n",
            "Collecting configparser (from fitz)\n",
            "  Downloading configparser-6.0.0-py3-none-any.whl (19 kB)\n",
            "Requirement already satisfied: httplib2 in /usr/local/lib/python3.10/dist-packages (from fitz) (0.22.0)\n",
            "Requirement already satisfied: nibabel in /usr/local/lib/python3.10/dist-packages (from fitz) (4.0.2)\n",
            "Collecting nipype (from fitz)\n",
            "  Downloading nipype-1.8.6-py3-none-any.whl (3.2 MB)\n",
            "\u001b[2K     \u001b[90m━━━━━━━━━━━━━━━━━━━━━━━━━━━━━━━━━━━━━━━━\u001b[0m \u001b[32m3.2/3.2 MB\u001b[0m \u001b[31m11.8 MB/s\u001b[0m eta \u001b[36m0:00:00\u001b[0m\n",
            "\u001b[?25hRequirement already satisfied: numpy in /usr/local/lib/python3.10/dist-packages (from fitz) (1.23.5)\n",
            "Requirement already satisfied: pandas in /usr/local/lib/python3.10/dist-packages (from fitz) (1.5.3)\n",
            "Collecting pyxnat (from fitz)\n",
            "  Downloading pyxnat-1.6-py3-none-any.whl (95 kB)\n",
            "\u001b[2K     \u001b[90m━━━━━━━━━━━━━━━━━━━━━━━━━━━━━━━━━━━━━━━━\u001b[0m \u001b[32m95.3/95.3 kB\u001b[0m \u001b[31m9.1 MB/s\u001b[0m eta \u001b[36m0:00:00\u001b[0m\n",
            "\u001b[?25hRequirement already satisfied: scipy in /usr/local/lib/python3.10/dist-packages (from fitz) (1.10.1)\n",
            "Requirement already satisfied: six in /usr/local/lib/python3.10/dist-packages (from configobj->fitz) (1.16.0)\n",
            "Requirement already satisfied: pyparsing!=3.0.0,!=3.0.1,!=3.0.2,!=3.0.3,<4,>=2.4.2 in /usr/local/lib/python3.10/dist-packages (from httplib2->fitz) (3.1.1)\n",
            "Requirement already satisfied: packaging>=17.0 in /usr/local/lib/python3.10/dist-packages (from nibabel->fitz) (23.1)\n",
            "Requirement already satisfied: setuptools in /usr/local/lib/python3.10/dist-packages (from nibabel->fitz) (67.7.2)\n",
            "Requirement already satisfied: click>=6.6.0 in /usr/local/lib/python3.10/dist-packages (from nipype->fitz) (8.1.7)\n",
            "Requirement already satisfied: networkx>=2.0 in /usr/local/lib/python3.10/dist-packages (from nipype->fitz) (3.1)\n",
            "Collecting prov>=1.5.2 (from nipype->fitz)\n",
            "  Downloading prov-2.0.0-py3-none-any.whl (421 kB)\n",
            "\u001b[2K     \u001b[90m━━━━━━━━━━━━━━━━━━━━━━━━━━━━━━━━━━━━━━\u001b[0m \u001b[32m421.5/421.5 kB\u001b[0m \u001b[31m19.2 MB/s\u001b[0m eta \u001b[36m0:00:00\u001b[0m\n",
            "\u001b[?25hRequirement already satisfied: pydot>=1.2.3 in /usr/local/lib/python3.10/dist-packages (from nipype->fitz) (1.4.2)\n",
            "Requirement already satisfied: python-dateutil>=2.2 in /usr/local/lib/python3.10/dist-packages (from nipype->fitz) (2.8.2)\n",
            "Collecting rdflib>=5.0.0 (from nipype->fitz)\n",
            "  Downloading rdflib-7.0.0-py3-none-any.whl (531 kB)\n",
            "\u001b[2K     \u001b[90m━━━━━━━━━━━━━━━━━━━━━━━━━━━━━━━━━━━━━━\u001b[0m \u001b[32m531.9/531.9 kB\u001b[0m \u001b[31m20.3 MB/s\u001b[0m eta \u001b[36m0:00:00\u001b[0m\n",
            "\u001b[?25hCollecting simplejson>=3.8.0 (from nipype->fitz)\n",
            "  Downloading simplejson-3.19.1-cp310-cp310-manylinux_2_5_x86_64.manylinux1_x86_64.manylinux_2_17_x86_64.manylinux2014_x86_64.whl (137 kB)\n",
            "\u001b[2K     \u001b[90m━━━━━━━━━━━━━━━━━━━━━━━━━━━━━━━━━━━━━━\u001b[0m \u001b[32m137.9/137.9 kB\u001b[0m \u001b[31m15.2 MB/s\u001b[0m eta \u001b[36m0:00:00\u001b[0m\n",
            "\u001b[?25hCollecting traits!=5.0,<6.4,>=4.6 (from nipype->fitz)\n",
            "  Downloading traits-6.3.2-cp310-cp310-manylinux_2_5_x86_64.manylinux1_x86_64.manylinux_2_12_x86_64.manylinux2010_x86_64.whl (5.1 MB)\n",
            "\u001b[2K     \u001b[90m━━━━━━━━━━━━━━━━━━━━━━━━━━━━━━━━━━━━━━━━\u001b[0m \u001b[32m5.1/5.1 MB\u001b[0m \u001b[31m34.7 MB/s\u001b[0m eta \u001b[36m0:00:00\u001b[0m\n",
            "\u001b[?25hRequirement already satisfied: filelock>=3.0.0 in /usr/local/lib/python3.10/dist-packages (from nipype->fitz) (3.12.2)\n",
            "Collecting etelemetry>=0.2.0 (from nipype->fitz)\n",
            "  Downloading etelemetry-0.3.0-py3-none-any.whl (6.3 kB)\n",
            "Collecting looseversion (from nipype->fitz)\n",
            "  Downloading looseversion-1.3.0-py2.py3-none-any.whl (8.2 kB)\n",
            "Requirement already satisfied: pytz>=2020.1 in /usr/local/lib/python3.10/dist-packages (from pandas->fitz) (2023.3)\n",
            "Requirement already satisfied: future>=0.16 in /usr/local/lib/python3.10/dist-packages (from pyxnat->fitz) (0.18.3)\n",
            "Requirement already satisfied: lxml>=4.3 in /usr/local/lib/python3.10/dist-packages (from pyxnat->fitz) (4.9.3)\n",
            "Requirement already satisfied: pathlib>=1.0 in /usr/local/lib/python3.10/dist-packages (from pyxnat->fitz) (1.0.1)\n",
            "Requirement already satisfied: requests>=2.20 in /usr/local/lib/python3.10/dist-packages (from pyxnat->fitz) (2.31.0)\n",
            "Collecting ci-info>=0.2 (from etelemetry>=0.2.0->nipype->fitz)\n",
            "  Downloading ci_info-0.3.0-py3-none-any.whl (7.8 kB)\n",
            "Collecting isodate<0.7.0,>=0.6.0 (from rdflib>=5.0.0->nipype->fitz)\n",
            "  Downloading isodate-0.6.1-py2.py3-none-any.whl (41 kB)\n",
            "\u001b[2K     \u001b[90m━━━━━━━━━━━━━━━━━━━━━━━━━━━━━━━━━━━━━━━━\u001b[0m \u001b[32m41.7/41.7 kB\u001b[0m \u001b[31m4.2 MB/s\u001b[0m eta \u001b[36m0:00:00\u001b[0m\n",
            "\u001b[?25hRequirement already satisfied: charset-normalizer<4,>=2 in /usr/local/lib/python3.10/dist-packages (from requests>=2.20->pyxnat->fitz) (3.2.0)\n",
            "Requirement already satisfied: idna<4,>=2.5 in /usr/local/lib/python3.10/dist-packages (from requests>=2.20->pyxnat->fitz) (3.4)\n",
            "Requirement already satisfied: urllib3<3,>=1.21.1 in /usr/local/lib/python3.10/dist-packages (from requests>=2.20->pyxnat->fitz) (2.0.4)\n",
            "Requirement already satisfied: certifi>=2017.4.17 in /usr/local/lib/python3.10/dist-packages (from requests>=2.20->pyxnat->fitz) (2023.7.22)\n",
            "Installing collected packages: looseversion, traits, simplejson, isodate, configparser, configobj, ci-info, rdflib, pyxnat, etelemetry, prov, nipype, fitz\n",
            "Successfully installed ci-info-0.3.0 configobj-5.0.8 configparser-6.0.0 etelemetry-0.3.0 fitz-0.0.1.dev2 isodate-0.6.1 looseversion-1.3.0 nipype-1.8.6 prov-2.0.0 pyxnat-1.6 rdflib-7.0.0 simplejson-3.19.1 traits-6.3.2\n"
          ]
        },
        {
          "output_type": "display_data",
          "data": {
            "application/vnd.colab-display-data+json": {
              "pip_warning": {
                "packages": [
                  "configparser"
                ]
              }
            }
          },
          "metadata": {}
        }
      ]
    },
    {
      "cell_type": "code",
      "source": [
        "pip install PyMuPDF"
      ],
      "metadata": {
        "colab": {
          "base_uri": "https://localhost:8080/"
        },
        "id": "MC-dFgYgW4B6",
        "outputId": "010dd39a-221c-4e44-be6c-1db255a6bee0"
      },
      "execution_count": null,
      "outputs": [
        {
          "output_type": "stream",
          "name": "stdout",
          "text": [
            "Collecting PyMuPDF\n",
            "  Downloading PyMuPDF-1.23.2-cp310-none-manylinux2014_x86_64.whl (4.3 MB)\n",
            "\u001b[2K     \u001b[90m━━━━━━━━━━━━━━━━━━━━━━━━━━━━━━━━━━━━━━━━\u001b[0m \u001b[32m4.3/4.3 MB\u001b[0m \u001b[31m14.3 MB/s\u001b[0m eta \u001b[36m0:00:00\u001b[0m\n",
            "\u001b[?25hCollecting PyMuPDFb==1.23.0 (from PyMuPDF)\n",
            "  Downloading PyMuPDFb-1.23.0-py3-none-manylinux2014_x86_64.manylinux_2_17_x86_64.whl (26.3 MB)\n",
            "\u001b[2K     \u001b[90m━━━━━━━━━━━━━━━━━━━━━━━━━━━━━━━━━━━━━━━━\u001b[0m \u001b[32m26.3/26.3 MB\u001b[0m \u001b[31m43.2 MB/s\u001b[0m eta \u001b[36m0:00:00\u001b[0m\n",
            "\u001b[?25hInstalling collected packages: PyMuPDFb, PyMuPDF\n",
            "Successfully installed PyMuPDF-1.23.2 PyMuPDFb-1.23.0\n"
          ]
        }
      ]
    },
    {
      "cell_type": "code",
      "source": [
        "!pip install PyPDF2"
      ],
      "metadata": {
        "colab": {
          "base_uri": "https://localhost:8080/"
        },
        "id": "9eZK4ypENP2H",
        "outputId": "5a490ea2-1ba1-4004-e3e4-99ffb423763e"
      },
      "execution_count": null,
      "outputs": [
        {
          "output_type": "stream",
          "name": "stdout",
          "text": [
            "Collecting PyPDF2\n",
            "  Downloading pypdf2-3.0.1-py3-none-any.whl (232 kB)\n",
            "\u001b[?25l     \u001b[90m━━━━━━━━━━━━━━━━━━━━━━━━━━━━━━━━━━━━━━━━\u001b[0m \u001b[32m0.0/232.6 kB\u001b[0m \u001b[31m?\u001b[0m eta \u001b[36m-:--:--\u001b[0m\r\u001b[2K     \u001b[91m━━━━━━━━━━━━━━━━━━━━━━━━━━━━━━━━━━\u001b[0m\u001b[90m╺\u001b[0m\u001b[90m━━━━\u001b[0m \u001b[32m204.8/232.6 kB\u001b[0m \u001b[31m5.9 MB/s\u001b[0m eta \u001b[36m0:00:01\u001b[0m\r\u001b[2K     \u001b[90m━━━━━━━━━━━━━━━━━━━━━━━━━━━━━━━━━━━━━━━\u001b[0m \u001b[32m232.6/232.6 kB\u001b[0m \u001b[31m5.0 MB/s\u001b[0m eta \u001b[36m0:00:00\u001b[0m\n",
            "\u001b[?25hInstalling collected packages: PyPDF2\n",
            "Successfully installed PyPDF2-3.0.1\n"
          ]
        }
      ]
    },
    {
      "cell_type": "code",
      "execution_count": null,
      "metadata": {
        "colab": {
          "base_uri": "https://localhost:8080/"
        },
        "id": "j3BOClCOVz8i",
        "outputId": "62ff0a86-9bdb-47bf-8156-aecf84a550a4"
      },
      "outputs": [
        {
          "output_type": "stream",
          "name": "stdout",
          "text": [
            "Le contenu extrait a été enregistré dans 'contenu_extrait.txt'.\n"
          ]
        }
      ],
      "source": [
        "import fitz  # Import de la bibliothèque PyMuPDF\n",
        "\n",
        "# Chemin vers le fichier PDF\n",
        "pdf_path = '/content/121511P01.pdf'\n",
        "\n",
        "# Numéros de pages à extraire\n",
        "page_numbers = [6, 7]\n",
        "\n",
        "# Charger le document PDF\n",
        "pdf_document = fitz.open(pdf_path)\n",
        "\n",
        "# Extraire le texte des pages spécifiées et le stocker dans un dictionnaire\n",
        "extracted_tables = {}\n",
        "\n",
        "for page_num in page_numbers:\n",
        "    page = pdf_document[page_num - 1]  # Les numéros de page commencent à partir de 0 dans PyMuPDF\n",
        "    page_text = page.get_text()\n",
        "    extracted_tables[page_num] = page_text\n",
        "\n",
        "# Fermer le document PDF\n",
        "pdf_document.close()\n",
        "\n",
        "# Écrire le contenu extrait dans un fichier .txt\n",
        "output_file = 'contenu_extrait.txt'\n",
        "\n",
        "with open(output_file, 'w') as file:\n",
        "    for page_num, text in extracted_tables.items():\n",
        "        file.write(f\"Contenu extrait de la page {page_num}:\\n\")\n",
        "        file.write(text)\n",
        "        file.write('\\n\\n')\n",
        "\n",
        "print(f\"Le contenu extrait a été enregistré dans '{output_file}'.\")\n"
      ]
    },
    {
      "cell_type": "code",
      "source": [
        "pip install selenium"
      ],
      "metadata": {
        "colab": {
          "base_uri": "https://localhost:8080/"
        },
        "id": "WYTj-Te6iC4S",
        "outputId": "081da060-947a-418a-daec-defaab65e072"
      },
      "execution_count": null,
      "outputs": [
        {
          "output_type": "stream",
          "name": "stdout",
          "text": [
            "Collecting selenium\n",
            "  Downloading selenium-4.11.2-py3-none-any.whl (7.2 MB)\n",
            "\u001b[2K     \u001b[90m━━━━━━━━━━━━━━━━━━━━━━━━━━━━━━━━━━━━━━━━\u001b[0m \u001b[32m7.2/7.2 MB\u001b[0m \u001b[31m17.4 MB/s\u001b[0m eta \u001b[36m0:00:00\u001b[0m\n",
            "\u001b[?25hRequirement already satisfied: urllib3[socks]<3,>=1.26 in /usr/local/lib/python3.10/dist-packages (from selenium) (2.0.4)\n",
            "Collecting trio~=0.17 (from selenium)\n",
            "  Downloading trio-0.22.2-py3-none-any.whl (400 kB)\n",
            "\u001b[2K     \u001b[90m━━━━━━━━━━━━━━━━━━━━━━━━━━━━━━━━━━━━━━\u001b[0m \u001b[32m400.2/400.2 kB\u001b[0m \u001b[31m32.3 MB/s\u001b[0m eta \u001b[36m0:00:00\u001b[0m\n",
            "\u001b[?25hCollecting trio-websocket~=0.9 (from selenium)\n",
            "  Downloading trio_websocket-0.10.3-py3-none-any.whl (17 kB)\n",
            "Requirement already satisfied: certifi>=2021.10.8 in /usr/local/lib/python3.10/dist-packages (from selenium) (2023.7.22)\n",
            "Requirement already satisfied: attrs>=20.1.0 in /usr/local/lib/python3.10/dist-packages (from trio~=0.17->selenium) (23.1.0)\n",
            "Requirement already satisfied: sortedcontainers in /usr/local/lib/python3.10/dist-packages (from trio~=0.17->selenium) (2.4.0)\n",
            "Requirement already satisfied: idna in /usr/local/lib/python3.10/dist-packages (from trio~=0.17->selenium) (3.4)\n",
            "Collecting outcome (from trio~=0.17->selenium)\n",
            "  Downloading outcome-1.2.0-py2.py3-none-any.whl (9.7 kB)\n",
            "Requirement already satisfied: sniffio in /usr/local/lib/python3.10/dist-packages (from trio~=0.17->selenium) (1.3.0)\n",
            "Requirement already satisfied: exceptiongroup>=1.0.0rc9 in /usr/local/lib/python3.10/dist-packages (from trio~=0.17->selenium) (1.1.3)\n",
            "Collecting wsproto>=0.14 (from trio-websocket~=0.9->selenium)\n",
            "  Downloading wsproto-1.2.0-py3-none-any.whl (24 kB)\n",
            "Requirement already satisfied: pysocks!=1.5.7,<2.0,>=1.5.6 in /usr/local/lib/python3.10/dist-packages (from urllib3[socks]<3,>=1.26->selenium) (1.7.1)\n",
            "Collecting h11<1,>=0.9.0 (from wsproto>=0.14->trio-websocket~=0.9->selenium)\n",
            "  Downloading h11-0.14.0-py3-none-any.whl (58 kB)\n",
            "\u001b[2K     \u001b[90m━━━━━━━━━━━━━━━━━━━━━━━━━━━━━━━━━━━━━━━━\u001b[0m \u001b[32m58.3/58.3 kB\u001b[0m \u001b[31m6.5 MB/s\u001b[0m eta \u001b[36m0:00:00\u001b[0m\n",
            "\u001b[?25hInstalling collected packages: outcome, h11, wsproto, trio, trio-websocket, selenium\n",
            "Successfully installed h11-0.14.0 outcome-1.2.0 selenium-4.11.2 trio-0.22.2 trio-websocket-0.10.3 wsproto-1.2.0\n"
          ]
        }
      ]
    },
    {
      "cell_type": "code",
      "source": [
        "\n",
        "\n",
        "import csv\n",
        "from googlesearch import search\n",
        "import time\n",
        "\n",
        "# Fonction pour rechercher les fichiers PDF contenant des exercices de calculs mathématiques basiques pour enfants\n",
        "def search_math_pdfs(query, num_results):\n",
        "    search_results = search(query, num=num_results, lang='fr')\n",
        "    return search_results\n",
        "\n",
        "# Paramètres de recherche\n",
        "query = \"fichiers PDF  phrases déclaratives,interrogatives, exclamatives\"\n",
        "num_results = 500\n",
        "output_csv_filename = 'liens phrases2.csv'\n",
        "\n",
        "# Recherche de fichiers PDF\n",
        "pdf_links = search_math_pdfs(query, num_results)\n",
        "\n",
        "# Liste pour stocker les liens\n",
        "pdf_links_list = []\n",
        "\n",
        "# Convertir le générateur en liste et ajouter une pause entre les requêtes\n",
        "for link in pdf_links:\n",
        "    pdf_links_list.append(link)\n",
        "    time.sleep(2)  # Pause de 2 secondes entre chaque requête\n",
        "\n",
        "# Sauvegarde des liens dans un fichier CSV\n",
        "with open(output_csv_filename, 'w', newline='', encoding='utf-8') as csv_file:\n",
        "    csv_writer = csv.writer(csv_file)\n",
        "    csv_writer.writerow(['Liens vers les Fichiers PDF'])\n",
        "    csv_writer.writerows([[link] for link in pdf_links_list])\n",
        "\n",
        "print(f\"{len(pdf_links_list)} liens vers des fichiers PDF contenant des exercices mathématiques basiques pour enfants ont été sauvegardés dans {output_csv_filename}\")\n"
      ],
      "metadata": {
        "colab": {
          "base_uri": "https://localhost:8080/"
        },
        "id": "_N-oOTNtb3Jp",
        "outputId": "694ae5a2-92c6-46e6-c836-f3844029bcfa"
      },
      "execution_count": null,
      "outputs": [
        {
          "output_type": "stream",
          "name": "stdout",
          "text": [
            "29 liens vers des fichiers PDF contenant des exercices mathématiques basiques pour enfants ont été sauvegardés dans liens phrases2.csv\n"
          ]
        }
      ]
    },
    {
      "cell_type": "code",
      "source": [],
      "metadata": {
        "id": "foo6zDAGuwUI"
      },
      "execution_count": null,
      "outputs": []
    },
    {
      "cell_type": "code",
      "source": [
        "\n",
        "\n",
        "import csv\n",
        "from googlesearch import search\n",
        "import time\n",
        "\n",
        "# Fonction pour rechercher les fichiers PDF contenant des exercices de calculs mathématiques basiques pour enfants\n",
        "def search_math_pdfs(query, num_results):\n",
        "    search_results = search(query, num=num_results, lang='fr')\n",
        "    return search_results\n",
        "\n",
        "# Paramètres de recherche\n",
        "query = \"fichiers PDF  phrases déclaratives\"\n",
        "num_results = 500\n",
        "output_csv_filename = 'liens phrases declaratives.csv'\n",
        "\n",
        "# Recherche de fichiers PDF\n",
        "pdf_links = search_math_pdfs(query, num_results)\n",
        "\n",
        "# Liste pour stocker les liens\n",
        "pdf_links_list = []\n",
        "\n",
        "# Convertir le générateur en liste et ajouter une pause entre les requêtes\n",
        "for link in pdf_links:\n",
        "    pdf_links_list.append(link)\n",
        "    time.sleep(2)  # Pause de 2 secondes entre chaque requête\n",
        "\n",
        "# Sauvegarde des liens dans un fichier CSV\n",
        "with open(output_csv_filename, 'w', newline='', encoding='utf-8') as csv_file:\n",
        "    csv_writer = csv.writer(csv_file)\n",
        "    csv_writer.writerow(['Liens vers les Fichiers PDF'])\n",
        "    csv_writer.writerows([[link] for link in pdf_links_list])\n",
        "\n",
        "print(f\"{len(pdf_links_list)} liens vers des fichiers PDF contenant des exercices mathématiques basiques pour enfants ont été sauvegardés dans {output_csv_filename}\")\n"
      ],
      "metadata": {
        "colab": {
          "base_uri": "https://localhost:8080/"
        },
        "id": "PUPX82AFuwcQ",
        "outputId": "119ce32a-0708-403c-d04c-34eb95c455cd"
      },
      "execution_count": null,
      "outputs": [
        {
          "output_type": "stream",
          "name": "stdout",
          "text": [
            "53 liens vers des fichiers PDF contenant des exercices mathématiques basiques pour enfants ont été sauvegardés dans liens phrases declaratives.csv\n"
          ]
        }
      ]
    },
    {
      "cell_type": "code",
      "source": [
        "\n",
        "\n",
        "import csv\n",
        "from googlesearch import search\n",
        "import time\n",
        "\n",
        "# Fonction pour rechercher les fichiers PDF contenant des exercices de calculs mathématiques basiques pour enfants\n",
        "def search_math_pdfs(query, num_results):\n",
        "    search_results = search(query, num=num_results, lang='fr')\n",
        "    return search_results\n",
        "\n",
        "# Paramètres de recherche\n",
        "query = \"fichiers PDF  phrases interrogatives\"\n",
        "num_results = 500\n",
        "output_csv_filename = 'liens phrases interrogatives.csv'\n",
        "\n",
        "# Recherche de fichiers PDF\n",
        "pdf_links = search_math_pdfs(query, num_results)\n",
        "\n",
        "# Liste pour stocker les liens\n",
        "pdf_links_list = []\n",
        "\n",
        "# Convertir le générateur en liste et ajouter une pause entre les requêtes\n",
        "for link in pdf_links:\n",
        "    pdf_links_list.append(link)\n",
        "    time.sleep(2)  # Pause de 2 secondes entre chaque requête\n",
        "\n",
        "# Sauvegarde des liens dans un fichier CSV\n",
        "with open(output_csv_filename, 'w', newline='', encoding='utf-8') as csv_file:\n",
        "    csv_writer = csv.writer(csv_file)\n",
        "    csv_writer.writerow(['Liens vers les Fichiers PDF'])\n",
        "    csv_writer.writerows([[link] for link in pdf_links_list])\n",
        "\n",
        "print(f\"{len(pdf_links_list)} liens vers des fichiers PDF contenant des exercices mathématiques basiques pour enfants ont été sauvegardés dans {output_csv_filename}\")\n"
      ],
      "metadata": {
        "colab": {
          "base_uri": "https://localhost:8080/"
        },
        "id": "2mCpYHzU1Z92",
        "outputId": "f92ce82f-32db-4cb7-bc97-156eddd9775c"
      },
      "execution_count": null,
      "outputs": [
        {
          "output_type": "stream",
          "name": "stdout",
          "text": [
            "58 liens vers des fichiers PDF contenant des exercices mathématiques basiques pour enfants ont été sauvegardés dans liens phrases interrogatives.csv\n"
          ]
        }
      ]
    },
    {
      "cell_type": "code",
      "source": [
        "\n",
        "\n",
        "import csv\n",
        "from googlesearch import search\n",
        "import time\n",
        "\n",
        "# Fonction pour rechercher les fichiers PDF contenant des exercices de calculs mathématiques basiques pour enfants\n",
        "def search_math_pdfs(query, num_results):\n",
        "    search_results = search(query, num=num_results, lang='fr')\n",
        "    return search_results\n",
        "\n",
        "# Paramètres de recherche\n",
        "query = \"fichiers PDF  phrases exclamatives\"\n",
        "num_results = 500\n",
        "output_csv_filename = 'liens phrases exclamatives.csv'\n",
        "\n",
        "# Recherche de fichiers PDF\n",
        "pdf_links = search_math_pdfs(query, num_results)\n",
        "\n",
        "# Liste pour stocker les liens\n",
        "pdf_links_list = []\n",
        "\n",
        "# Convertir le générateur en liste et ajouter une pause entre les requêtes\n",
        "for link in pdf_links:\n",
        "    pdf_links_list.append(link)\n",
        "    time.sleep(2)  # Pause de 2 secondes entre chaque requête\n",
        "\n",
        "# Sauvegarde des liens dans un fichier CSV\n",
        "with open(output_csv_filename, 'w', newline='', encoding='utf-8') as csv_file:\n",
        "    csv_writer = csv.writer(csv_file)\n",
        "    csv_writer.writerow(['Liens vers les Fichiers PDF'])\n",
        "    csv_writer.writerows([[link] for link in pdf_links_list])\n",
        "\n",
        "print(f\"{len(pdf_links_list)} liens vers des fichiers PDF contenant des exercices mathématiques basiques pour enfants ont été sauvegardés dans {output_csv_filename}\")\n"
      ],
      "metadata": {
        "colab": {
          "base_uri": "https://localhost:8080/"
        },
        "id": "kS7dOZ-D6hFS",
        "outputId": "7a87f39b-e5be-4dd4-9324-05019e7d7449"
      },
      "execution_count": null,
      "outputs": [
        {
          "output_type": "stream",
          "name": "stdout",
          "text": [
            "41 liens vers des fichiers PDF contenant des exercices mathématiques basiques pour enfants ont été sauvegardés dans liens phrases exclamatives.csv\n"
          ]
        }
      ]
    },
    {
      "cell_type": "markdown",
      "source": [
        "5eme  anne primaire langue grammaire les phrases declaratives, interrogatives et exclamattives\n"
      ],
      "metadata": {
        "id": "gF1olhyUOy9N"
      }
    },
    {
      "cell_type": "code",
      "source": [
        "#EXTRACTION+DESCRIPTION\n",
        "import os\n",
        "import PyPDF2\n",
        "import pandas as pd\n",
        "import requests\n",
        "from IPython.display import FileLink\n",
        "from google.colab import drive\n",
        "\n",
        "# Montez Google Drive\n",
        "drive.mount('/content/drive')\n",
        "\n",
        "# Chemin vers le fichier Excel contenant les liens des fichiers PDF\n",
        "excel_file_path = \"/content/5eme  grammaire .xlsx\"\n",
        "\n",
        "# Charger le fichier Excel dans un DataFrame en spécifiant le moteur openpyxl\n",
        "xlsx_data = pd.read_excel(excel_file_path, engine='openpyxl')\n",
        "\n",
        "# Chemin vers le dossier local où vous souhaitez enregistrer les fichiers PDF téléchargés\n",
        "pdf_local_dir = \"/content/drive/MyDrive/FR\"\n",
        "os.makedirs(pdf_local_dir, exist_ok=True)\n",
        "\n",
        "# Chemin vers le dossier local où vous souhaitez enregistrer les fichiers OCR\n",
        "output_local_dir = \"/content/drive/MyDrive/FROCR\"\n",
        "os.makedirs(output_local_dir, exist_ok=True)\n",
        "\n",
        "# Parcourir chaque ligne dans le DataFrame\n",
        "for index, row in xlsx_data.iterrows():\n",
        "    pdf_link = row['pdfLINK']  # Assurez-vous que le nom de la colonne est correct\n",
        "    pdf_name = os.path.basename(pdf_link)\n",
        "    description = row['description ']  # Valeur de la deuxième colonne\n",
        "\n",
        "    # Télécharger le fichier PDF\n",
        "    response = requests.get(pdf_link)\n",
        "    pdf_path = os.path.join(pdf_local_dir, pdf_name)\n",
        "    with open(pdf_path, 'wb') as file:\n",
        "        file.write(response.content)\n",
        "\n",
        "    # Lire le PDF et appliquer l'OCR\n",
        "    with open(pdf_path, 'rb') as file:\n",
        "        reader = PyPDF2.PdfReader(file)\n",
        "        for page_num in range(len(reader.pages)):\n",
        "            # Extraire le texte de la page\n",
        "            page = reader.pages[page_num]\n",
        "            text = page.extract_text()\n",
        "\n",
        "            # Écrire le texte extrait dans le fichier OCR avec la description en haut\n",
        "            output_path = os.path.join(output_local_dir, os.path.splitext(pdf_name)[0] + \"_page\" + str(page_num+1) + \".txt\")\n",
        "            with open(output_path, \"w\", encoding=\"utf-8\") as file:\n",
        "                file.write(\"description : \" + description + \"\\n\\n\")\n",
        "                file.write(text)\n",
        "\n",
        "            # Afficher un lien vers le fichier OCR\n",
        "            display(FileLink(output_path))\n"
      ],
      "metadata": {
        "colab": {
          "base_uri": "https://localhost:8080/",
          "height": 957
        },
        "id": "nxhcg6hHMyLG",
        "outputId": "1d30cc3b-6378-4ff1-9a9d-73de13cc643d"
      },
      "execution_count": null,
      "outputs": [
        {
          "output_type": "stream",
          "name": "stdout",
          "text": [
            "Drive already mounted at /content/drive; to attempt to forcibly remount, call drive.mount(\"/content/drive\", force_remount=True).\n"
          ]
        },
        {
          "output_type": "display_data",
          "data": {
            "text/plain": [
              "/content/drive/MyDrive/FROCR/phrase-exclamative_page1.txt"
            ],
            "text/html": [
              "<a href='/content/drive/MyDrive/FROCR/phrase-exclamative_page1.txt' target='_blank'>/content/drive/MyDrive/FROCR/phrase-exclamative_page1.txt</a><br>"
            ]
          },
          "metadata": {}
        },
        {
          "output_type": "display_data",
          "data": {
            "text/plain": [
              "/content/drive/MyDrive/FROCR/phrase-exclamative_page2.txt"
            ],
            "text/html": [
              "<a href='/content/drive/MyDrive/FROCR/phrase-exclamative_page2.txt' target='_blank'>/content/drive/MyDrive/FROCR/phrase-exclamative_page2.txt</a><br>"
            ]
          },
          "metadata": {}
        },
        {
          "output_type": "display_data",
          "data": {
            "text/plain": [
              "/content/drive/MyDrive/FROCR/gram_ph_exclamative_page1.txt"
            ],
            "text/html": [
              "<a href='/content/drive/MyDrive/FROCR/gram_ph_exclamative_page1.txt' target='_blank'>/content/drive/MyDrive/FROCR/gram_ph_exclamative_page1.txt</a><br>"
            ]
          },
          "metadata": {}
        },
        {
          "output_type": "display_data",
          "data": {
            "text/plain": [
              "/content/drive/MyDrive/FROCR/types-de-phrases_page1.txt"
            ],
            "text/html": [
              "<a href='/content/drive/MyDrive/FROCR/types-de-phrases_page1.txt' target='_blank'>/content/drive/MyDrive/FROCR/types-de-phrases_page1.txt</a><br>"
            ]
          },
          "metadata": {}
        },
        {
          "output_type": "display_data",
          "data": {
            "text/plain": [
              "/content/drive/MyDrive/FROCR/types-de-phrases_page2.txt"
            ],
            "text/html": [
              "<a href='/content/drive/MyDrive/FROCR/types-de-phrases_page2.txt' target='_blank'>/content/drive/MyDrive/FROCR/types-de-phrases_page2.txt</a><br>"
            ]
          },
          "metadata": {}
        },
        {
          "output_type": "display_data",
          "data": {
            "text/plain": [
              "/content/drive/MyDrive/FROCR/Les-diff%C3%A9rents-types-de-phrases-CE1-CE2-PDF_page1.txt"
            ],
            "text/html": [
              "<a href='/content/drive/MyDrive/FROCR/Les-diff%C3%A9rents-types-de-phrases-CE1-CE2-PDF_page1.txt' target='_blank'>/content/drive/MyDrive/FROCR/Les-diff%C3%A9rents-types-de-phrases-CE1-CE2-PDF_page1.txt</a><br>"
            ]
          },
          "metadata": {}
        },
        {
          "output_type": "display_data",
          "data": {
            "text/plain": [
              "/content/drive/MyDrive/FROCR/Les-diff%C3%A9rents-types-de-phrases-CE1-CE2-PDF_page2.txt"
            ],
            "text/html": [
              "<a href='/content/drive/MyDrive/FROCR/Les-diff%C3%A9rents-types-de-phrases-CE1-CE2-PDF_page2.txt' target='_blank'>/content/drive/MyDrive/FROCR/Les-diff%C3%A9rents-types-de-phrases-CE1-CE2-PDF_page2.txt</a><br>"
            ]
          },
          "metadata": {}
        },
        {
          "output_type": "display_data",
          "data": {
            "text/plain": [
              "/content/drive/MyDrive/FROCR/Corrige%20de%20la%20phrase%20exclamative%20EB2_page1.txt"
            ],
            "text/html": [
              "<a href='/content/drive/MyDrive/FROCR/Corrige%20de%20la%20phrase%20exclamative%20EB2_page1.txt' target='_blank'>/content/drive/MyDrive/FROCR/Corrige%20de%20la%20phrase%20exclamative%20EB2_page1.txt</a><br>"
            ]
          },
          "metadata": {}
        },
        {
          "output_type": "display_data",
          "data": {
            "text/plain": [
              "/content/drive/MyDrive/FROCR/Corrige%20de%20la%20phrase%20exclamative%20EB2_page2.txt"
            ],
            "text/html": [
              "<a href='/content/drive/MyDrive/FROCR/Corrige%20de%20la%20phrase%20exclamative%20EB2_page2.txt' target='_blank'>/content/drive/MyDrive/FROCR/Corrige%20de%20la%20phrase%20exclamative%20EB2_page2.txt</a><br>"
            ]
          },
          "metadata": {}
        },
        {
          "output_type": "display_data",
          "data": {
            "text/plain": [
              "/content/drive/MyDrive/FROCR/01-declarative-interrogative_page1.txt"
            ],
            "text/html": [
              "<a href='/content/drive/MyDrive/FROCR/01-declarative-interrogative_page1.txt' target='_blank'>/content/drive/MyDrive/FROCR/01-declarative-interrogative_page1.txt</a><br>"
            ]
          },
          "metadata": {}
        },
        {
          "output_type": "display_data",
          "data": {
            "text/plain": [
              "/content/drive/MyDrive/FROCR/01-declarative-interrogative_page2.txt"
            ],
            "text/html": [
              "<a href='/content/drive/MyDrive/FROCR/01-declarative-interrogative_page2.txt' target='_blank'>/content/drive/MyDrive/FROCR/01-declarative-interrogative_page2.txt</a><br>"
            ]
          },
          "metadata": {}
        },
        {
          "output_type": "display_data",
          "data": {
            "text/plain": [
              "/content/drive/MyDrive/FROCR/01-declarative-interrogative_page3.txt"
            ],
            "text/html": [
              "<a href='/content/drive/MyDrive/FROCR/01-declarative-interrogative_page3.txt' target='_blank'>/content/drive/MyDrive/FROCR/01-declarative-interrogative_page3.txt</a><br>"
            ]
          },
          "metadata": {}
        },
        {
          "output_type": "display_data",
          "data": {
            "text/plain": [
              "/content/drive/MyDrive/FROCR/01-exclamative-negative_page1.txt"
            ],
            "text/html": [
              "<a href='/content/drive/MyDrive/FROCR/01-exclamative-negative_page1.txt' target='_blank'>/content/drive/MyDrive/FROCR/01-exclamative-negative_page1.txt</a><br>"
            ]
          },
          "metadata": {}
        },
        {
          "output_type": "display_data",
          "data": {
            "text/plain": [
              "/content/drive/MyDrive/FROCR/01-exclamative-negative_page2.txt"
            ],
            "text/html": [
              "<a href='/content/drive/MyDrive/FROCR/01-exclamative-negative_page2.txt' target='_blank'>/content/drive/MyDrive/FROCR/01-exclamative-negative_page2.txt</a><br>"
            ]
          },
          "metadata": {}
        },
        {
          "output_type": "display_data",
          "data": {
            "text/plain": [
              "/content/drive/MyDrive/FROCR/01-exclamative-negative_page3.txt"
            ],
            "text/html": [
              "<a href='/content/drive/MyDrive/FROCR/01-exclamative-negative_page3.txt' target='_blank'>/content/drive/MyDrive/FROCR/01-exclamative-negative_page3.txt</a><br>"
            ]
          },
          "metadata": {}
        },
        {
          "output_type": "display_data",
          "data": {
            "text/plain": [
              "/content/drive/MyDrive/FROCR/Classer%20phrases%20positives%20phrases%20negatives_page1.txt"
            ],
            "text/html": [
              "<a href='/content/drive/MyDrive/FROCR/Classer%20phrases%20positives%20phrases%20negatives_page1.txt' target='_blank'>/content/drive/MyDrive/FROCR/Classer%20phrases%20positives%20phrases%20negatives_page1.txt</a><br>"
            ]
          },
          "metadata": {}
        },
        {
          "output_type": "display_data",
          "data": {
            "text/plain": [
              "/content/drive/MyDrive/FROCR/Classer%20phrases%20positives%20phrases%20negatives_page2.txt"
            ],
            "text/html": [
              "<a href='/content/drive/MyDrive/FROCR/Classer%20phrases%20positives%20phrases%20negatives_page2.txt' target='_blank'>/content/drive/MyDrive/FROCR/Classer%20phrases%20positives%20phrases%20negatives_page2.txt</a><br>"
            ]
          },
          "metadata": {}
        },
        {
          "output_type": "display_data",
          "data": {
            "text/plain": [
              "/content/drive/MyDrive/FROCR/Classer%20phrases%20positives%20phrases%20negatives_page3.txt"
            ],
            "text/html": [
              "<a href='/content/drive/MyDrive/FROCR/Classer%20phrases%20positives%20phrases%20negatives_page3.txt' target='_blank'>/content/drive/MyDrive/FROCR/Classer%20phrases%20positives%20phrases%20negatives_page3.txt</a><br>"
            ]
          },
          "metadata": {}
        },
        {
          "output_type": "display_data",
          "data": {
            "text/plain": [
              "/content/drive/MyDrive/FROCR/gram_ph_declarative_page1.txt"
            ],
            "text/html": [
              "<a href='/content/drive/MyDrive/FROCR/gram_ph_declarative_page1.txt' target='_blank'>/content/drive/MyDrive/FROCR/gram_ph_declarative_page1.txt</a><br>"
            ]
          },
          "metadata": {}
        },
        {
          "output_type": "display_data",
          "data": {
            "text/plain": [
              "/content/drive/MyDrive/FROCR/gram_ph_declarative_page2.txt"
            ],
            "text/html": [
              "<a href='/content/drive/MyDrive/FROCR/gram_ph_declarative_page2.txt' target='_blank'>/content/drive/MyDrive/FROCR/gram_ph_declarative_page2.txt</a><br>"
            ]
          },
          "metadata": {}
        },
        {
          "output_type": "display_data",
          "data": {
            "text/plain": [
              "/content/drive/MyDrive/FROCR/gram_ph_declarative_page3.txt"
            ],
            "text/html": [
              "<a href='/content/drive/MyDrive/FROCR/gram_ph_declarative_page3.txt' target='_blank'>/content/drive/MyDrive/FROCR/gram_ph_declarative_page3.txt</a><br>"
            ]
          },
          "metadata": {}
        },
        {
          "output_type": "display_data",
          "data": {
            "text/plain": [
              "/content/drive/MyDrive/FROCR/gram_ph_declarative_page4.txt"
            ],
            "text/html": [
              "<a href='/content/drive/MyDrive/FROCR/gram_ph_declarative_page4.txt' target='_blank'>/content/drive/MyDrive/FROCR/gram_ph_declarative_page4.txt</a><br>"
            ]
          },
          "metadata": {}
        },
        {
          "output_type": "display_data",
          "data": {
            "text/plain": [
              "/content/drive/MyDrive/FROCR/Les%20phrases%20d%E9claratives_page1.txt"
            ],
            "text/html": [
              "<a href='/content/drive/MyDrive/FROCR/Les%20phrases%20d%E9claratives_page1.txt' target='_blank'>/content/drive/MyDrive/FROCR/Les%20phrases%20d%E9claratives_page1.txt</a><br>"
            ]
          },
          "metadata": {}
        },
        {
          "output_type": "display_data",
          "data": {
            "text/plain": [
              "/content/drive/MyDrive/FROCR/Les%20phrases%20d%E9claratives_page2.txt"
            ],
            "text/html": [
              "<a href='/content/drive/MyDrive/FROCR/Les%20phrases%20d%E9claratives_page2.txt' target='_blank'>/content/drive/MyDrive/FROCR/Les%20phrases%20d%E9claratives_page2.txt</a><br>"
            ]
          },
          "metadata": {}
        },
        {
          "output_type": "display_data",
          "data": {
            "text/plain": [
              "/content/drive/MyDrive/FROCR/Les%20phrases%20d%E9claratives_page3.txt"
            ],
            "text/html": [
              "<a href='/content/drive/MyDrive/FROCR/Les%20phrases%20d%E9claratives_page3.txt' target='_blank'>/content/drive/MyDrive/FROCR/Les%20phrases%20d%E9claratives_page3.txt</a><br>"
            ]
          },
          "metadata": {}
        },
        {
          "output_type": "display_data",
          "data": {
            "text/plain": [
              "/content/drive/MyDrive/FROCR/Les%20phrases%20d%E9claratives_page4.txt"
            ],
            "text/html": [
              "<a href='/content/drive/MyDrive/FROCR/Les%20phrases%20d%E9claratives_page4.txt' target='_blank'>/content/drive/MyDrive/FROCR/Les%20phrases%20d%E9claratives_page4.txt</a><br>"
            ]
          },
          "metadata": {}
        },
        {
          "output_type": "display_data",
          "data": {
            "text/plain": [
              "/content/drive/MyDrive/FROCR/Les%20phrases%20d%E9claratives_page5.txt"
            ],
            "text/html": [
              "<a href='/content/drive/MyDrive/FROCR/Les%20phrases%20d%E9claratives_page5.txt' target='_blank'>/content/drive/MyDrive/FROCR/Les%20phrases%20d%E9claratives_page5.txt</a><br>"
            ]
          },
          "metadata": {}
        },
        {
          "output_type": "display_data",
          "data": {
            "text/plain": [
              "/content/drive/MyDrive/FROCR/Les%20phrases%20d%E9claratives_page6.txt"
            ],
            "text/html": [
              "<a href='/content/drive/MyDrive/FROCR/Les%20phrases%20d%E9claratives_page6.txt' target='_blank'>/content/drive/MyDrive/FROCR/Les%20phrases%20d%E9claratives_page6.txt</a><br>"
            ]
          },
          "metadata": {}
        },
        {
          "output_type": "display_data",
          "data": {
            "text/plain": [
              "/content/drive/MyDrive/FROCR/Les%20phrases%20interrogatives._page1.txt"
            ],
            "text/html": [
              "<a href='/content/drive/MyDrive/FROCR/Les%20phrases%20interrogatives._page1.txt' target='_blank'>/content/drive/MyDrive/FROCR/Les%20phrases%20interrogatives._page1.txt</a><br>"
            ]
          },
          "metadata": {}
        },
        {
          "output_type": "display_data",
          "data": {
            "text/plain": [
              "/content/drive/MyDrive/FROCR/Les%20phrases%20interrogatives._page2.txt"
            ],
            "text/html": [
              "<a href='/content/drive/MyDrive/FROCR/Les%20phrases%20interrogatives._page2.txt' target='_blank'>/content/drive/MyDrive/FROCR/Les%20phrases%20interrogatives._page2.txt</a><br>"
            ]
          },
          "metadata": {}
        },
        {
          "output_type": "display_data",
          "data": {
            "text/plain": [
              "/content/drive/MyDrive/FROCR/Les%20phrases%20interrogatives._page3.txt"
            ],
            "text/html": [
              "<a href='/content/drive/MyDrive/FROCR/Les%20phrases%20interrogatives._page3.txt' target='_blank'>/content/drive/MyDrive/FROCR/Les%20phrases%20interrogatives._page3.txt</a><br>"
            ]
          },
          "metadata": {}
        },
        {
          "output_type": "display_data",
          "data": {
            "text/plain": [
              "/content/drive/MyDrive/FROCR/Les%20phrases%20interrogatives._page4.txt"
            ],
            "text/html": [
              "<a href='/content/drive/MyDrive/FROCR/Les%20phrases%20interrogatives._page4.txt' target='_blank'>/content/drive/MyDrive/FROCR/Les%20phrases%20interrogatives._page4.txt</a><br>"
            ]
          },
          "metadata": {}
        },
        {
          "output_type": "display_data",
          "data": {
            "text/plain": [
              "/content/drive/MyDrive/FROCR/Les%20phrases%20interrogatives._page5.txt"
            ],
            "text/html": [
              "<a href='/content/drive/MyDrive/FROCR/Les%20phrases%20interrogatives._page5.txt' target='_blank'>/content/drive/MyDrive/FROCR/Les%20phrases%20interrogatives._page5.txt</a><br>"
            ]
          },
          "metadata": {}
        },
        {
          "output_type": "display_data",
          "data": {
            "text/plain": [
              "/content/drive/MyDrive/FROCR/Les%20phrases%20interrogatives._page6.txt"
            ],
            "text/html": [
              "<a href='/content/drive/MyDrive/FROCR/Les%20phrases%20interrogatives._page6.txt' target='_blank'>/content/drive/MyDrive/FROCR/Les%20phrases%20interrogatives._page6.txt</a><br>"
            ]
          },
          "metadata": {}
        },
        {
          "output_type": "display_data",
          "data": {
            "text/plain": [
              "/content/drive/MyDrive/FROCR/phrases%20d%E9clarative%20et%20interrogative._page1.txt"
            ],
            "text/html": [
              "<a href='/content/drive/MyDrive/FROCR/phrases%20d%E9clarative%20et%20interrogative._page1.txt' target='_blank'>/content/drive/MyDrive/FROCR/phrases%20d%E9clarative%20et%20interrogative._page1.txt</a><br>"
            ]
          },
          "metadata": {}
        },
        {
          "output_type": "display_data",
          "data": {
            "text/plain": [
              "/content/drive/MyDrive/FROCR/phrases%20d%E9clarative%20et%20interrogative._page2.txt"
            ],
            "text/html": [
              "<a href='/content/drive/MyDrive/FROCR/phrases%20d%E9clarative%20et%20interrogative._page2.txt' target='_blank'>/content/drive/MyDrive/FROCR/phrases%20d%E9clarative%20et%20interrogative._page2.txt</a><br>"
            ]
          },
          "metadata": {}
        },
        {
          "output_type": "display_data",
          "data": {
            "text/plain": [
              "/content/drive/MyDrive/FROCR/phrases%20d%E9clarative%20et%20interrogative._page3.txt"
            ],
            "text/html": [
              "<a href='/content/drive/MyDrive/FROCR/phrases%20d%E9clarative%20et%20interrogative._page3.txt' target='_blank'>/content/drive/MyDrive/FROCR/phrases%20d%E9clarative%20et%20interrogative._page3.txt</a><br>"
            ]
          },
          "metadata": {}
        },
        {
          "output_type": "display_data",
          "data": {
            "text/plain": [
              "/content/drive/MyDrive/FROCR/phrases%20d%E9clarative%20et%20interrogative._page4.txt"
            ],
            "text/html": [
              "<a href='/content/drive/MyDrive/FROCR/phrases%20d%E9clarative%20et%20interrogative._page4.txt' target='_blank'>/content/drive/MyDrive/FROCR/phrases%20d%E9clarative%20et%20interrogative._page4.txt</a><br>"
            ]
          },
          "metadata": {}
        },
        {
          "output_type": "display_data",
          "data": {
            "text/plain": [
              "/content/drive/MyDrive/FROCR/phrases%20d%E9clarative%20et%20interrogative._page5.txt"
            ],
            "text/html": [
              "<a href='/content/drive/MyDrive/FROCR/phrases%20d%E9clarative%20et%20interrogative._page5.txt' target='_blank'>/content/drive/MyDrive/FROCR/phrases%20d%E9clarative%20et%20interrogative._page5.txt</a><br>"
            ]
          },
          "metadata": {}
        },
        {
          "output_type": "display_data",
          "data": {
            "text/plain": [
              "/content/drive/MyDrive/FROCR/phrases%20d%E9clarative%20et%20interrogative._page6.txt"
            ],
            "text/html": [
              "<a href='/content/drive/MyDrive/FROCR/phrases%20d%E9clarative%20et%20interrogative._page6.txt' target='_blank'>/content/drive/MyDrive/FROCR/phrases%20d%E9clarative%20et%20interrogative._page6.txt</a><br>"
            ]
          },
          "metadata": {}
        },
        {
          "output_type": "display_data",
          "data": {
            "text/plain": [
              "/content/drive/MyDrive/FROCR/Les%20types%20et%20les%20formes%20de%20phrases%20verbales_page1.txt"
            ],
            "text/html": [
              "<a href='/content/drive/MyDrive/FROCR/Les%20types%20et%20les%20formes%20de%20phrases%20verbales_page1.txt' target='_blank'>/content/drive/MyDrive/FROCR/Les%20types%20et%20les%20formes%20de%20phrases%20verbales_page1.txt</a><br>"
            ]
          },
          "metadata": {}
        },
        {
          "output_type": "display_data",
          "data": {
            "text/plain": [
              "/content/drive/MyDrive/FROCR/Les%20types%20et%20les%20formes%20de%20phrases%20verbales_page2.txt"
            ],
            "text/html": [
              "<a href='/content/drive/MyDrive/FROCR/Les%20types%20et%20les%20formes%20de%20phrases%20verbales_page2.txt' target='_blank'>/content/drive/MyDrive/FROCR/Les%20types%20et%20les%20formes%20de%20phrases%20verbales_page2.txt</a><br>"
            ]
          },
          "metadata": {}
        },
        {
          "output_type": "display_data",
          "data": {
            "text/plain": [
              "/content/drive/MyDrive/FROCR/Les%20types%20et%20les%20formes%20de%20phrases%20verbales_page3.txt"
            ],
            "text/html": [
              "<a href='/content/drive/MyDrive/FROCR/Les%20types%20et%20les%20formes%20de%20phrases%20verbales_page3.txt' target='_blank'>/content/drive/MyDrive/FROCR/Les%20types%20et%20les%20formes%20de%20phrases%20verbales_page3.txt</a><br>"
            ]
          },
          "metadata": {}
        },
        {
          "output_type": "display_data",
          "data": {
            "text/plain": [
              "/content/drive/MyDrive/FROCR/Les%20types%20et%20les%20formes%20de%20phrases%20verbales_page4.txt"
            ],
            "text/html": [
              "<a href='/content/drive/MyDrive/FROCR/Les%20types%20et%20les%20formes%20de%20phrases%20verbales_page4.txt' target='_blank'>/content/drive/MyDrive/FROCR/Les%20types%20et%20les%20formes%20de%20phrases%20verbales_page4.txt</a><br>"
            ]
          },
          "metadata": {}
        },
        {
          "output_type": "display_data",
          "data": {
            "text/plain": [
              "/content/drive/MyDrive/FROCR/Les%20types%20et%20les%20formes%20de%20phrases%20verbales_page5.txt"
            ],
            "text/html": [
              "<a href='/content/drive/MyDrive/FROCR/Les%20types%20et%20les%20formes%20de%20phrases%20verbales_page5.txt' target='_blank'>/content/drive/MyDrive/FROCR/Les%20types%20et%20les%20formes%20de%20phrases%20verbales_page5.txt</a><br>"
            ]
          },
          "metadata": {}
        },
        {
          "output_type": "display_data",
          "data": {
            "text/plain": [
              "/content/drive/MyDrive/FROCR/Les%20types%20et%20les%20formes%20de%20phrases%20verbales_page6.txt"
            ],
            "text/html": [
              "<a href='/content/drive/MyDrive/FROCR/Les%20types%20et%20les%20formes%20de%20phrases%20verbales_page6.txt' target='_blank'>/content/drive/MyDrive/FROCR/Les%20types%20et%20les%20formes%20de%20phrases%20verbales_page6.txt</a><br>"
            ]
          },
          "metadata": {}
        },
        {
          "output_type": "display_data",
          "data": {
            "text/plain": [
              "/content/drive/MyDrive/FROCR/Les%20types%20et%20les%20formes%20de%20phrases%20verbales_page7.txt"
            ],
            "text/html": [
              "<a href='/content/drive/MyDrive/FROCR/Les%20types%20et%20les%20formes%20de%20phrases%20verbales_page7.txt' target='_blank'>/content/drive/MyDrive/FROCR/Les%20types%20et%20les%20formes%20de%20phrases%20verbales_page7.txt</a><br>"
            ]
          },
          "metadata": {}
        },
        {
          "output_type": "display_data",
          "data": {
            "text/plain": [
              "/content/drive/MyDrive/FROCR/Les%20types%20et%20les%20formes%20de%20phrases%20verbales_page8.txt"
            ],
            "text/html": [
              "<a href='/content/drive/MyDrive/FROCR/Les%20types%20et%20les%20formes%20de%20phrases%20verbales_page8.txt' target='_blank'>/content/drive/MyDrive/FROCR/Les%20types%20et%20les%20formes%20de%20phrases%20verbales_page8.txt</a><br>"
            ]
          },
          "metadata": {}
        },
        {
          "output_type": "display_data",
          "data": {
            "text/plain": [
              "/content/drive/MyDrive/FROCR/Les%20types%20et%20les%20formes%20de%20phrases%20verbales_page9.txt"
            ],
            "text/html": [
              "<a href='/content/drive/MyDrive/FROCR/Les%20types%20et%20les%20formes%20de%20phrases%20verbales_page9.txt' target='_blank'>/content/drive/MyDrive/FROCR/Les%20types%20et%20les%20formes%20de%20phrases%20verbales_page9.txt</a><br>"
            ]
          },
          "metadata": {}
        },
        {
          "output_type": "display_data",
          "data": {
            "text/plain": [
              "/content/drive/MyDrive/FROCR/Les%20types%20et%20les%20formes%20de%20phrases%20verbales_page10.txt"
            ],
            "text/html": [
              "<a href='/content/drive/MyDrive/FROCR/Les%20types%20et%20les%20formes%20de%20phrases%20verbales_page10.txt' target='_blank'>/content/drive/MyDrive/FROCR/Les%20types%20et%20les%20formes%20de%20phrases%20verbales_page10.txt</a><br>"
            ]
          },
          "metadata": {}
        },
        {
          "output_type": "display_data",
          "data": {
            "text/plain": [
              "/content/drive/MyDrive/FROCR/phrase_de_type_interrogatif_page1.txt"
            ],
            "text/html": [
              "<a href='/content/drive/MyDrive/FROCR/phrase_de_type_interrogatif_page1.txt' target='_blank'>/content/drive/MyDrive/FROCR/phrase_de_type_interrogatif_page1.txt</a><br>"
            ]
          },
          "metadata": {}
        },
        {
          "output_type": "display_data",
          "data": {
            "text/plain": [
              "/content/drive/MyDrive/FROCR/phrase_de_type_interrogatif_page2.txt"
            ],
            "text/html": [
              "<a href='/content/drive/MyDrive/FROCR/phrase_de_type_interrogatif_page2.txt' target='_blank'>/content/drive/MyDrive/FROCR/phrase_de_type_interrogatif_page2.txt</a><br>"
            ]
          },
          "metadata": {}
        }
      ]
    },
    {
      "cell_type": "code",
      "source": [
        "import fitz  # Import de la bibliothèque PyMuPDF\n",
        "\n",
        "# Chemin vers le fichier PDF\n",
        "pdf_path = '/content/evaluationsgrammaire.pdf'\n",
        "\n",
        "# Chemin vers le fichier texte de sortie\n",
        "output_text_file = 'resultat_extraction.txt'\n",
        "\n",
        "# Ouvrir le document PDF\n",
        "pdf_document = fitz.open(pdf_path)\n",
        "\n",
        "# Extraire le texte de chaque page\n",
        "all_text = \"\"\n",
        "for page_num in range(pdf_document.page_count):\n",
        "    page = pdf_document.load_page(page_num)\n",
        "    page_text = page.get_text()\n",
        "    all_text += page_text\n",
        "\n",
        "# Fermer le document PDF\n",
        "pdf_document.close()\n",
        "\n",
        "# Écrire le texte extrait dans le fichier texte\n",
        "with open(output_text_file, 'w', encoding='utf-8') as file:\n",
        "    file.write(all_text)\n",
        "\n",
        "print(f\"Le texte extrait a été enregistré dans '{output_text_file}'.\")\n"
      ],
      "metadata": {
        "colab": {
          "base_uri": "https://localhost:8080/"
        },
        "id": "Ymb8aB5tPI6a",
        "outputId": "713c907a-21ec-462e-fa14-a71e39dba153"
      },
      "execution_count": null,
      "outputs": [
        {
          "output_type": "stream",
          "name": "stdout",
          "text": [
            "Le texte extrait a été enregistré dans 'resultat_extraction.txt'.\n"
          ]
        }
      ]
    },
    {
      "cell_type": "markdown",
      "source": [
        "Reconnaître les trois temps :\n",
        "présent, passé et futur"
      ],
      "metadata": {
        "id": "V3L2klBEmP0G"
      }
    },
    {
      "cell_type": "code",
      "source": [
        "import csv\n",
        "from googlesearch import search\n",
        "import time\n",
        "\n",
        "# Fonction pour rechercher les fichiers PDF contenant des indicateurs temporels\n",
        "def search_temporal_indicators(query, num_results):\n",
        "    search_results = search(query, num=num_results, lang='fr')\n",
        "    return search_results\n",
        "\n",
        "# Paramètres de recherche\n",
        "query = \"fichiers PDF indicateurs temporels du présent, passé, futur\"\n",
        "num_results = 500\n",
        "output_csv_filename = 'liens_indicateurs_temporels.csv'\n",
        "\n",
        "# Recherche de fichiers PDF\n",
        "pdf_links = search_temporal_indicators(query, num_results)\n",
        "\n",
        "# Liste pour stocker les liens\n",
        "pdf_links_list = []\n",
        "\n",
        "# Convertir le générateur en liste et ajouter une pause entre les requêtes\n",
        "for link in pdf_links:\n",
        "    pdf_links_list.append(link)\n",
        "    time.sleep(2)  # Pause de 2 secondes entre chaque requête\n",
        "\n",
        "# Sauvegarde des liens dans un fichier CSV\n",
        "with open(output_csv_filename, 'w', newline='', encoding='utf-8') as csv_file:\n",
        "    csv_writer = csv.writer(csv_file)\n",
        "    csv_writer.writerow(['Liens vers les Fichiers PDF'])\n",
        "    csv_writer.writerows([[link] for link in pdf_links_list])\n",
        "\n",
        "print(f\"{len(pdf_links_list)} liens vers des fichiers PDF contenant des indicateurs temporels ont été sauvegardés dans {output_csv_filename}\")\n"
      ],
      "metadata": {
        "colab": {
          "base_uri": "https://localhost:8080/"
        },
        "id": "4qhngyX-mUgr",
        "outputId": "0c680540-c9fb-471c-8b2f-82833519935f"
      },
      "execution_count": null,
      "outputs": [
        {
          "output_type": "stream",
          "name": "stdout",
          "text": [
            "92 liens vers des fichiers PDF contenant des indicateurs temporels ont été sauvegardés dans liens_indicateurs_temporels.csv\n"
          ]
        }
      ]
    },
    {
      "cell_type": "code",
      "source": [
        "!pip install --upgrade PyPDF2\n"
      ],
      "metadata": {
        "colab": {
          "base_uri": "https://localhost:8080/"
        },
        "id": "SWf2QOLGCA5_",
        "outputId": "92d80250-d1ec-4e40-8a5b-d47f8831f41b"
      },
      "execution_count": null,
      "outputs": [
        {
          "output_type": "stream",
          "name": "stdout",
          "text": [
            "Requirement already satisfied: PyPDF2 in /usr/local/lib/python3.10/dist-packages (3.0.1)\n"
          ]
        }
      ]
    },
    {
      "cell_type": "code",
      "source": [
        "!pip install pycryptodome\n"
      ],
      "metadata": {
        "colab": {
          "base_uri": "https://localhost:8080/"
        },
        "id": "BeuJw4HOBCz_",
        "outputId": "d9dfe215-9d05-402e-d373-4e6a16e15df2"
      },
      "execution_count": null,
      "outputs": [
        {
          "output_type": "stream",
          "name": "stdout",
          "text": [
            "Requirement already satisfied: pycryptodome in /usr/local/lib/python3.10/dist-packages (3.18.0)\n"
          ]
        }
      ]
    },
    {
      "cell_type": "code",
      "source": [
        "!pip install pdfplumber\n"
      ],
      "metadata": {
        "colab": {
          "base_uri": "https://localhost:8080/"
        },
        "id": "Pw6sWyXMCJN3",
        "outputId": "885bb2bf-d30f-453c-892e-6e0d4c535c16"
      },
      "execution_count": null,
      "outputs": [
        {
          "output_type": "stream",
          "name": "stdout",
          "text": [
            "Collecting pdfplumber\n",
            "  Downloading pdfplumber-0.10.2-py3-none-any.whl (47 kB)\n",
            "\u001b[2K     \u001b[90m━━━━━━━━━━━━━━━━━━━━━━━━━━━━━━━━━━━━━━━━\u001b[0m \u001b[32m47.5/47.5 kB\u001b[0m \u001b[31m1.7 MB/s\u001b[0m eta \u001b[36m0:00:00\u001b[0m\n",
            "\u001b[?25hCollecting pdfminer.six==20221105 (from pdfplumber)\n",
            "  Downloading pdfminer.six-20221105-py3-none-any.whl (5.6 MB)\n",
            "\u001b[2K     \u001b[90m━━━━━━━━━━━━━━━━━━━━━━━━━━━━━━━━━━━━━━━━\u001b[0m \u001b[32m5.6/5.6 MB\u001b[0m \u001b[31m59.5 MB/s\u001b[0m eta \u001b[36m0:00:00\u001b[0m\n",
            "\u001b[?25hRequirement already satisfied: Pillow>=9.1 in /usr/local/lib/python3.10/dist-packages (from pdfplumber) (9.4.0)\n",
            "Collecting pypdfium2>=4.18.0 (from pdfplumber)\n",
            "  Downloading pypdfium2-4.19.0-py3-none-manylinux_2_17_x86_64.whl (3.0 MB)\n",
            "\u001b[2K     \u001b[90m━━━━━━━━━━━━━━━━━━━━━━━━━━━━━━━━━━━━━━━━\u001b[0m \u001b[32m3.0/3.0 MB\u001b[0m \u001b[31m115.5 MB/s\u001b[0m eta \u001b[36m0:00:00\u001b[0m\n",
            "\u001b[?25hRequirement already satisfied: charset-normalizer>=2.0.0 in /usr/local/lib/python3.10/dist-packages (from pdfminer.six==20221105->pdfplumber) (3.2.0)\n",
            "Requirement already satisfied: cryptography>=36.0.0 in /usr/local/lib/python3.10/dist-packages (from pdfminer.six==20221105->pdfplumber) (41.0.3)\n",
            "Requirement already satisfied: cffi>=1.12 in /usr/local/lib/python3.10/dist-packages (from cryptography>=36.0.0->pdfminer.six==20221105->pdfplumber) (1.15.1)\n",
            "Requirement already satisfied: pycparser in /usr/local/lib/python3.10/dist-packages (from cffi>=1.12->cryptography>=36.0.0->pdfminer.six==20221105->pdfplumber) (2.21)\n",
            "Installing collected packages: pypdfium2, pdfminer.six, pdfplumber\n",
            "Successfully installed pdfminer.six-20221105 pdfplumber-0.10.2 pypdfium2-4.19.0\n"
          ]
        }
      ]
    },
    {
      "cell_type": "code",
      "source": [
        "import os\n",
        "import PyPDF2\n",
        "import pandas as pd\n",
        "import requests\n",
        "from IPython.display import FileLink, display\n",
        "from google.colab import drive\n",
        "\n",
        "# Installer PyCryptodome\n",
        "!pip install pycryptodome\n",
        "\n",
        "# Montez Google Drive\n",
        "drive.mount('/content/drive')\n",
        "\n",
        "# Chemin vers le fichier Excel contenant les liens des fichiers PDF\n",
        "excel_file_path = \"/content/5eme conjugaison.xlsx\"\n",
        "\n",
        "# Charger le fichier Excel dans un DataFrame en spécifiant le moteur openpyxl\n",
        "xlsx_data = pd.read_excel(excel_file_path, engine='openpyxl')\n",
        "\n",
        "# Chemin vers le dossier local où vous souhaitez enregistrer les fichiers PDF téléchargés\n",
        "pdf_local_dir = \"/content/drive/MyDrive/FRConjug1\"\n",
        "os.makedirs(pdf_local_dir, exist_ok=True)\n",
        "\n",
        "# Chemin vers le dossier local où vous souhaitez enregistrer les fichiers OCR\n",
        "output_local_dir = \"/content/drive/MyDrive/FROCRConjug1\"\n",
        "os.makedirs(output_local_dir, exist_ok=True)\n",
        "\n",
        "# Parcourir chaque ligne dans le DataFrame\n",
        "for index, row in xlsx_data.iterrows():\n",
        "    pdf_link = row['linkPDF']  # Assurez-vous que le nom de la colonne est correct\n",
        "    pdf_name = os.path.basename(pdf_link)\n",
        "    description = row['description']  # Valeur de la deuxième colonne\n",
        "\n",
        "    # Télécharger le fichier PDF\n",
        "    response = requests.get(pdf_link)\n",
        "    pdf_path = os.path.join(pdf_local_dir, pdf_name)\n",
        "    with open(pdf_path, 'wb') as file:\n",
        "        file.write(response.content)\n",
        "\n",
        "    # Lire le PDF et appliquer l'OCR\n",
        "    with open(pdf_path, 'rb') as file:\n",
        "        reader = PyPDF2.PdfReader(file)\n",
        "        for page_num in range(len(reader.pages)):\n",
        "            # Extraire le texte de la page\n",
        "            page = reader.pages[page_num]\n",
        "            text = page.extract_text()\n",
        "\n",
        "            # Écrire le texte extrait dans le fichier OCR avec la description en haut\n",
        "            output_path = os.path.join(output_local_dir, os.path.splitext(pdf_name)[0] + \"_page\" + str(page_num+1) + \".txt\")\n",
        "            with open(output_path, \"w\", encoding=\"utf-8\") as file:\n",
        "                file.write(\"description : \" + description + \"\\n\\n\")\n",
        "                file.write(text)\n",
        "\n",
        "            # Afficher un lien vers le fichier OCR\n",
        "            display(FileLink(output_path))\n"
      ],
      "metadata": {
        "colab": {
          "base_uri": "https://localhost:8080/",
          "height": 610
        },
        "id": "_mdraTjM6h4f",
        "outputId": "ac5f8050-1dfe-4fcd-fd0f-6b87b8beb368"
      },
      "execution_count": null,
      "outputs": [
        {
          "output_type": "stream",
          "name": "stdout",
          "text": [
            "Requirement already satisfied: pycryptodome in /usr/local/lib/python3.10/dist-packages (3.18.0)\n",
            "Drive already mounted at /content/drive; to attempt to forcibly remount, call drive.mount(\"/content/drive\", force_remount=True).\n"
          ]
        },
        {
          "output_type": "display_data",
          "data": {
            "text/plain": [
              "/content/drive/MyDrive/FROCRConjug1/Les-termes-temporels_page1.txt"
            ],
            "text/html": [
              "<a href='/content/drive/MyDrive/FROCRConjug1/Les-termes-temporels_page1.txt' target='_blank'>/content/drive/MyDrive/FROCRConjug1/Les-termes-temporels_page1.txt</a><br>"
            ]
          },
          "metadata": {}
        },
        {
          "output_type": "display_data",
          "data": {
            "text/plain": [
              "/content/drive/MyDrive/FROCRConjug1/Les-termes-temporels_page2.txt"
            ],
            "text/html": [
              "<a href='/content/drive/MyDrive/FROCRConjug1/Les-termes-temporels_page2.txt' target='_blank'>/content/drive/MyDrive/FROCRConjug1/Les-termes-temporels_page2.txt</a><br>"
            ]
          },
          "metadata": {}
        },
        {
          "output_type": "display_data",
          "data": {
            "text/plain": [
              "/content/drive/MyDrive/FROCRConjug1/a1-a2_grammaire_indicateurs-de-temps_page1.txt"
            ],
            "text/html": [
              "<a href='/content/drive/MyDrive/FROCRConjug1/a1-a2_grammaire_indicateurs-de-temps_page1.txt' target='_blank'>/content/drive/MyDrive/FROCRConjug1/a1-a2_grammaire_indicateurs-de-temps_page1.txt</a><br>"
            ]
          },
          "metadata": {}
        },
        {
          "output_type": "display_data",
          "data": {
            "text/plain": [
              "/content/drive/MyDrive/FROCRConjug1/a1-a2_grammaire_indicateurs-de-temps_page2.txt"
            ],
            "text/html": [
              "<a href='/content/drive/MyDrive/FROCRConjug1/a1-a2_grammaire_indicateurs-de-temps_page2.txt' target='_blank'>/content/drive/MyDrive/FROCRConjug1/a1-a2_grammaire_indicateurs-de-temps_page2.txt</a><br>"
            ]
          },
          "metadata": {}
        },
        {
          "output_type": "display_data",
          "data": {
            "text/plain": [
              "/content/drive/MyDrive/FROCRConjug1/S2_Etiquettes-phrases-LB_page1.txt"
            ],
            "text/html": [
              "<a href='/content/drive/MyDrive/FROCRConjug1/S2_Etiquettes-phrases-LB_page1.txt' target='_blank'>/content/drive/MyDrive/FROCRConjug1/S2_Etiquettes-phrases-LB_page1.txt</a><br>"
            ]
          },
          "metadata": {}
        },
        {
          "output_type": "display_data",
          "data": {
            "text/plain": [
              "/content/drive/MyDrive/FROCRConjug1/S1_%C3%A9tiquettes-temps_page1.txt"
            ],
            "text/html": [
              "<a href='/content/drive/MyDrive/FROCRConjug1/S1_%C3%A9tiquettes-temps_page1.txt' target='_blank'>/content/drive/MyDrive/FROCRConjug1/S1_%C3%A9tiquettes-temps_page1.txt</a><br>"
            ]
          },
          "metadata": {}
        },
        {
          "output_type": "display_data",
          "data": {
            "text/plain": [
              "/content/drive/MyDrive/FROCRConjug1/S1_%C3%A9tiquettes-temps_page2.txt"
            ],
            "text/html": [
              "<a href='/content/drive/MyDrive/FROCRConjug1/S1_%C3%A9tiquettes-temps_page2.txt' target='_blank'>/content/drive/MyDrive/FROCRConjug1/S1_%C3%A9tiquettes-temps_page2.txt</a><br>"
            ]
          },
          "metadata": {}
        },
        {
          "output_type": "display_data",
          "data": {
            "text/plain": [
              "/content/drive/MyDrive/FROCRConjug1/S1_%C3%A9tiquettes-temps_page3.txt"
            ],
            "text/html": [
              "<a href='/content/drive/MyDrive/FROCRConjug1/S1_%C3%A9tiquettes-temps_page3.txt' target='_blank'>/content/drive/MyDrive/FROCRConjug1/S1_%C3%A9tiquettes-temps_page3.txt</a><br>"
            ]
          },
          "metadata": {}
        },
        {
          "output_type": "display_data",
          "data": {
            "text/plain": [
              "/content/drive/MyDrive/FROCRConjug1/S1_%C3%A9tiquettes-temps_page4.txt"
            ],
            "text/html": [
              "<a href='/content/drive/MyDrive/FROCRConjug1/S1_%C3%A9tiquettes-temps_page4.txt' target='_blank'>/content/drive/MyDrive/FROCRConjug1/S1_%C3%A9tiquettes-temps_page4.txt</a><br>"
            ]
          },
          "metadata": {}
        },
        {
          "output_type": "display_data",
          "data": {
            "text/plain": [
              "/content/drive/MyDrive/FROCRConjug1/Conjugue%20au%20pr%E9sent%20les%20verbes%20du%20premier%20groupe_page1.txt"
            ],
            "text/html": [
              "<a href='/content/drive/MyDrive/FROCRConjug1/Conjugue%20au%20pr%E9sent%20les%20verbes%20du%20premier%20groupe_page1.txt' target='_blank'>/content/drive/MyDrive/FROCRConjug1/Conjugue%20au%20pr%E9sent%20les%20verbes%20du%20premier%20groupe_page1.txt</a><br>"
            ]
          },
          "metadata": {}
        },
        {
          "output_type": "display_data",
          "data": {
            "text/plain": [
              "/content/drive/MyDrive/FROCRConjug1/Conjugue%20au%20pr%E9sent%20les%20verbes%20du%20premier%20groupe_page2.txt"
            ],
            "text/html": [
              "<a href='/content/drive/MyDrive/FROCRConjug1/Conjugue%20au%20pr%E9sent%20les%20verbes%20du%20premier%20groupe_page2.txt' target='_blank'>/content/drive/MyDrive/FROCRConjug1/Conjugue%20au%20pr%E9sent%20les%20verbes%20du%20premier%20groupe_page2.txt</a><br>"
            ]
          },
          "metadata": {}
        },
        {
          "output_type": "display_data",
          "data": {
            "text/plain": [
              "/content/drive/MyDrive/FROCRConjug1/Conjugue%20au%20pr%E9sent%20les%20verbes%20du%20premier%20groupe_page3.txt"
            ],
            "text/html": [
              "<a href='/content/drive/MyDrive/FROCRConjug1/Conjugue%20au%20pr%E9sent%20les%20verbes%20du%20premier%20groupe_page3.txt' target='_blank'>/content/drive/MyDrive/FROCRConjug1/Conjugue%20au%20pr%E9sent%20les%20verbes%20du%20premier%20groupe_page3.txt</a><br>"
            ]
          },
          "metadata": {}
        },
        {
          "output_type": "display_data",
          "data": {
            "text/plain": [
              "/content/drive/MyDrive/FROCRConjug1/Conjugue%20au%20pr%E9sent%20les%20verbes%20du%20premier%20groupe_page4.txt"
            ],
            "text/html": [
              "<a href='/content/drive/MyDrive/FROCRConjug1/Conjugue%20au%20pr%E9sent%20les%20verbes%20du%20premier%20groupe_page4.txt' target='_blank'>/content/drive/MyDrive/FROCRConjug1/Conjugue%20au%20pr%E9sent%20les%20verbes%20du%20premier%20groupe_page4.txt</a><br>"
            ]
          },
          "metadata": {}
        },
        {
          "output_type": "display_data",
          "data": {
            "text/plain": [
              "/content/drive/MyDrive/FROCRConjug1/Conjugue%20au%20pr%E9sent%20les%20verbes%20du%20premier%20groupe_page5.txt"
            ],
            "text/html": [
              "<a href='/content/drive/MyDrive/FROCRConjug1/Conjugue%20au%20pr%E9sent%20les%20verbes%20du%20premier%20groupe_page5.txt' target='_blank'>/content/drive/MyDrive/FROCRConjug1/Conjugue%20au%20pr%E9sent%20les%20verbes%20du%20premier%20groupe_page5.txt</a><br>"
            ]
          },
          "metadata": {}
        },
        {
          "output_type": "display_data",
          "data": {
            "text/plain": [
              "/content/drive/MyDrive/FROCRConjug1/Conjugue%20au%20pr%E9sent%20les%20verbes%20du%20premier%20groupe_page6.txt"
            ],
            "text/html": [
              "<a href='/content/drive/MyDrive/FROCRConjug1/Conjugue%20au%20pr%E9sent%20les%20verbes%20du%20premier%20groupe_page6.txt' target='_blank'>/content/drive/MyDrive/FROCRConjug1/Conjugue%20au%20pr%E9sent%20les%20verbes%20du%20premier%20groupe_page6.txt</a><br>"
            ]
          },
          "metadata": {}
        },
        {
          "output_type": "display_data",
          "data": {
            "text/plain": [
              "/content/drive/MyDrive/FROCRConjug1/Conjugue%20au%20pr%E9sent%20les%20verbes%20du%20deuxi%E8me%20groupe_page1.txt"
            ],
            "text/html": [
              "<a href='/content/drive/MyDrive/FROCRConjug1/Conjugue%20au%20pr%E9sent%20les%20verbes%20du%20deuxi%E8me%20groupe_page1.txt' target='_blank'>/content/drive/MyDrive/FROCRConjug1/Conjugue%20au%20pr%E9sent%20les%20verbes%20du%20deuxi%E8me%20groupe_page1.txt</a><br>"
            ]
          },
          "metadata": {}
        },
        {
          "output_type": "display_data",
          "data": {
            "text/plain": [
              "/content/drive/MyDrive/FROCRConjug1/Conjugue%20au%20pr%E9sent%20les%20verbes%20du%20deuxi%E8me%20groupe_page2.txt"
            ],
            "text/html": [
              "<a href='/content/drive/MyDrive/FROCRConjug1/Conjugue%20au%20pr%E9sent%20les%20verbes%20du%20deuxi%E8me%20groupe_page2.txt' target='_blank'>/content/drive/MyDrive/FROCRConjug1/Conjugue%20au%20pr%E9sent%20les%20verbes%20du%20deuxi%E8me%20groupe_page2.txt</a><br>"
            ]
          },
          "metadata": {}
        },
        {
          "output_type": "display_data",
          "data": {
            "text/plain": [
              "/content/drive/MyDrive/FROCRConjug1/Conjugue%20au%20pr%E9sent%20les%20verbes%20du%20deuxi%E8me%20groupe_page3.txt"
            ],
            "text/html": [
              "<a href='/content/drive/MyDrive/FROCRConjug1/Conjugue%20au%20pr%E9sent%20les%20verbes%20du%20deuxi%E8me%20groupe_page3.txt' target='_blank'>/content/drive/MyDrive/FROCRConjug1/Conjugue%20au%20pr%E9sent%20les%20verbes%20du%20deuxi%E8me%20groupe_page3.txt</a><br>"
            ]
          },
          "metadata": {}
        },
        {
          "output_type": "display_data",
          "data": {
            "text/plain": [
              "/content/drive/MyDrive/FROCRConjug1/Conjugue%20au%20pr%E9sent%20les%20verbes%20du%20deuxi%E8me%20groupe_page4.txt"
            ],
            "text/html": [
              "<a href='/content/drive/MyDrive/FROCRConjug1/Conjugue%20au%20pr%E9sent%20les%20verbes%20du%20deuxi%E8me%20groupe_page4.txt' target='_blank'>/content/drive/MyDrive/FROCRConjug1/Conjugue%20au%20pr%E9sent%20les%20verbes%20du%20deuxi%E8me%20groupe_page4.txt</a><br>"
            ]
          },
          "metadata": {}
        },
        {
          "output_type": "display_data",
          "data": {
            "text/plain": [
              "/content/drive/MyDrive/FROCRConjug1/Conjugue%20au%20pr%E9sent%20les%20verbes%20du%20deuxi%E8me%20groupe_page5.txt"
            ],
            "text/html": [
              "<a href='/content/drive/MyDrive/FROCRConjug1/Conjugue%20au%20pr%E9sent%20les%20verbes%20du%20deuxi%E8me%20groupe_page5.txt' target='_blank'>/content/drive/MyDrive/FROCRConjug1/Conjugue%20au%20pr%E9sent%20les%20verbes%20du%20deuxi%E8me%20groupe_page5.txt</a><br>"
            ]
          },
          "metadata": {}
        },
        {
          "output_type": "display_data",
          "data": {
            "text/plain": [
              "/content/drive/MyDrive/FROCRConjug1/Conjugue%20au%20pr%E9sent%20les%20verbes%20du%20premier%20groupe_page1.txt"
            ],
            "text/html": [
              "<a href='/content/drive/MyDrive/FROCRConjug1/Conjugue%20au%20pr%E9sent%20les%20verbes%20du%20premier%20groupe_page1.txt' target='_blank'>/content/drive/MyDrive/FROCRConjug1/Conjugue%20au%20pr%E9sent%20les%20verbes%20du%20premier%20groupe_page1.txt</a><br>"
            ]
          },
          "metadata": {}
        },
        {
          "output_type": "display_data",
          "data": {
            "text/plain": [
              "/content/drive/MyDrive/FROCRConjug1/Conjugue%20au%20pr%E9sent%20les%20verbes%20du%20premier%20groupe_page2.txt"
            ],
            "text/html": [
              "<a href='/content/drive/MyDrive/FROCRConjug1/Conjugue%20au%20pr%E9sent%20les%20verbes%20du%20premier%20groupe_page2.txt' target='_blank'>/content/drive/MyDrive/FROCRConjug1/Conjugue%20au%20pr%E9sent%20les%20verbes%20du%20premier%20groupe_page2.txt</a><br>"
            ]
          },
          "metadata": {}
        },
        {
          "output_type": "display_data",
          "data": {
            "text/plain": [
              "/content/drive/MyDrive/FROCRConjug1/Conjugue%20au%20pr%E9sent%20les%20verbes%20du%20premier%20groupe_page3.txt"
            ],
            "text/html": [
              "<a href='/content/drive/MyDrive/FROCRConjug1/Conjugue%20au%20pr%E9sent%20les%20verbes%20du%20premier%20groupe_page3.txt' target='_blank'>/content/drive/MyDrive/FROCRConjug1/Conjugue%20au%20pr%E9sent%20les%20verbes%20du%20premier%20groupe_page3.txt</a><br>"
            ]
          },
          "metadata": {}
        },
        {
          "output_type": "display_data",
          "data": {
            "text/plain": [
              "/content/drive/MyDrive/FROCRConjug1/Conjugue%20au%20pr%E9sent%20les%20verbes%20du%20premier%20groupe_page4.txt"
            ],
            "text/html": [
              "<a href='/content/drive/MyDrive/FROCRConjug1/Conjugue%20au%20pr%E9sent%20les%20verbes%20du%20premier%20groupe_page4.txt' target='_blank'>/content/drive/MyDrive/FROCRConjug1/Conjugue%20au%20pr%E9sent%20les%20verbes%20du%20premier%20groupe_page4.txt</a><br>"
            ]
          },
          "metadata": {}
        },
        {
          "output_type": "display_data",
          "data": {
            "text/plain": [
              "/content/drive/MyDrive/FROCRConjug1/Conjugue%20au%20pr%E9sent%20les%20verbes%20du%20premier%20groupe_page5.txt"
            ],
            "text/html": [
              "<a href='/content/drive/MyDrive/FROCRConjug1/Conjugue%20au%20pr%E9sent%20les%20verbes%20du%20premier%20groupe_page5.txt' target='_blank'>/content/drive/MyDrive/FROCRConjug1/Conjugue%20au%20pr%E9sent%20les%20verbes%20du%20premier%20groupe_page5.txt</a><br>"
            ]
          },
          "metadata": {}
        },
        {
          "output_type": "display_data",
          "data": {
            "text/plain": [
              "/content/drive/MyDrive/FROCRConjug1/Conjugue%20au%20pr%E9sent%20les%20verbes%20du%20premier%20groupe_page6.txt"
            ],
            "text/html": [
              "<a href='/content/drive/MyDrive/FROCRConjug1/Conjugue%20au%20pr%E9sent%20les%20verbes%20du%20premier%20groupe_page6.txt' target='_blank'>/content/drive/MyDrive/FROCRConjug1/Conjugue%20au%20pr%E9sent%20les%20verbes%20du%20premier%20groupe_page6.txt</a><br>"
            ]
          },
          "metadata": {}
        },
        {
          "output_type": "display_data",
          "data": {
            "text/plain": [
              "/content/drive/MyDrive/FROCRConjug1/Conjugue%20au%20pr%E9sent%20les%20verbes%20du%20deuxi%E8me%20groupe_page1.txt"
            ],
            "text/html": [
              "<a href='/content/drive/MyDrive/FROCRConjug1/Conjugue%20au%20pr%E9sent%20les%20verbes%20du%20deuxi%E8me%20groupe_page1.txt' target='_blank'>/content/drive/MyDrive/FROCRConjug1/Conjugue%20au%20pr%E9sent%20les%20verbes%20du%20deuxi%E8me%20groupe_page1.txt</a><br>"
            ]
          },
          "metadata": {}
        },
        {
          "output_type": "display_data",
          "data": {
            "text/plain": [
              "/content/drive/MyDrive/FROCRConjug1/Conjugue%20au%20pr%E9sent%20les%20verbes%20du%20deuxi%E8me%20groupe_page2.txt"
            ],
            "text/html": [
              "<a href='/content/drive/MyDrive/FROCRConjug1/Conjugue%20au%20pr%E9sent%20les%20verbes%20du%20deuxi%E8me%20groupe_page2.txt' target='_blank'>/content/drive/MyDrive/FROCRConjug1/Conjugue%20au%20pr%E9sent%20les%20verbes%20du%20deuxi%E8me%20groupe_page2.txt</a><br>"
            ]
          },
          "metadata": {}
        },
        {
          "output_type": "display_data",
          "data": {
            "text/plain": [
              "/content/drive/MyDrive/FROCRConjug1/Conjugue%20au%20pr%E9sent%20les%20verbes%20du%20deuxi%E8me%20groupe_page3.txt"
            ],
            "text/html": [
              "<a href='/content/drive/MyDrive/FROCRConjug1/Conjugue%20au%20pr%E9sent%20les%20verbes%20du%20deuxi%E8me%20groupe_page3.txt' target='_blank'>/content/drive/MyDrive/FROCRConjug1/Conjugue%20au%20pr%E9sent%20les%20verbes%20du%20deuxi%E8me%20groupe_page3.txt</a><br>"
            ]
          },
          "metadata": {}
        },
        {
          "output_type": "display_data",
          "data": {
            "text/plain": [
              "/content/drive/MyDrive/FROCRConjug1/Conjugue%20au%20pr%E9sent%20les%20verbes%20du%20deuxi%E8me%20groupe_page4.txt"
            ],
            "text/html": [
              "<a href='/content/drive/MyDrive/FROCRConjug1/Conjugue%20au%20pr%E9sent%20les%20verbes%20du%20deuxi%E8me%20groupe_page4.txt' target='_blank'>/content/drive/MyDrive/FROCRConjug1/Conjugue%20au%20pr%E9sent%20les%20verbes%20du%20deuxi%E8me%20groupe_page4.txt</a><br>"
            ]
          },
          "metadata": {}
        },
        {
          "output_type": "display_data",
          "data": {
            "text/plain": [
              "/content/drive/MyDrive/FROCRConjug1/Conjugue%20au%20pr%E9sent%20les%20verbes%20du%20deuxi%E8me%20groupe_page5.txt"
            ],
            "text/html": [
              "<a href='/content/drive/MyDrive/FROCRConjug1/Conjugue%20au%20pr%E9sent%20les%20verbes%20du%20deuxi%E8me%20groupe_page5.txt' target='_blank'>/content/drive/MyDrive/FROCRConjug1/Conjugue%20au%20pr%E9sent%20les%20verbes%20du%20deuxi%E8me%20groupe_page5.txt</a><br>"
            ]
          },
          "metadata": {}
        }
      ]
    },
    {
      "cell_type": "code",
      "source": [
        "import requests\n",
        "from bs4 import BeautifulSoup\n",
        "\n",
        "# URL de la page\n",
        "url = \"https://www.francaisfacile.com/exercices/exercice-francais-2/exercice-francais-93204.php\"\n",
        "\n",
        "# Faire une requête GET pour obtenir le contenu de la page\n",
        "response = requests.get(url)\n",
        "html_content = response.content\n",
        "\n",
        "# Utiliser Beautiful Soup pour analyser le contenu HTML\n",
        "soup = BeautifulSoup(html_content, 'html.parser')\n",
        "\n",
        "# Trouver la première table dans le HTML\n",
        "table = soup.find('table', class_='mceItemTable')\n",
        "\n",
        "# Vérifier si la table a été trouvée\n",
        "if table:\n",
        "    # Parcourir les lignes de la table\n",
        "    for row in table.find_all('tr'):\n",
        "        # Parcourir les cellules de chaque ligne\n",
        "        cells = row.find_all('td')\n",
        "        for cell in cells:\n",
        "            # Imprimer le contenu de chaque cellule\n",
        "            print(cell.get_text(strip=True))\n",
        "else:\n",
        "    print(\"Table non trouvée sur la page.\")\n"
      ],
      "metadata": {
        "id": "1xVJJ_TvCa2f",
        "colab": {
          "base_uri": "https://localhost:8080/"
        },
        "outputId": "b0afb747-55f7-4ea1-d611-69d19c58fe0a"
      },
      "execution_count": null,
      "outputs": [
        {
          "output_type": "stream",
          "name": "stdout",
          "text": [
            "Marqueurs de temps :Dans un récit,un indicateur (ou terme) temporelest un mot ou une expression qui permet de situer les événements sur la ligne du temps.En conjugaison, on distingue trois grands moments durant lesquels se déroulent les événements ou les actions. Ainsi, une phrase peut être au présent, au passé ou au futur :Au présent,elle raconte ce qui se passemaintenant, en ce moment.Ex. :Aujourd'hui,Isabelle se présente à un concours de beauté.Au passé,elle raconte ce qui s'est passéavant.Ex. :Hier,Isabelle a acheté une jolie robe décolletée.Au futur,elle raconte ce qui va se passerplus tard.Ex. :Bientôt,Isabelle sera Miss de sa localité.Pour situer l'action dans le tempspar rapport au moment où on parle, on peut employer des adverbes et des locutions adverbiales de temps qui répondent toujours à la question :quand ?AvantMaintenant / en ce momentAprèsAvant-hier (matin / après-midi/ soir)Hier (matin / après-midi/ soir)La semaine dernière/passéeLe mois dernier/passéL'année dernière/passéeIl y a ... jours/semaines/mois/annéesAutrefoisJadisIl y a longtemps...Aujourd'huiCe matinCet après-midiCe soirCette semaineCe mois-ciCette annéeActuellementDe nos jours...DemainAprès-demainLa semaine prochaineLe mois prochainL'année prochaineDans ... jours/semaines/mois/annéesA l'avenir...On emploie d'autres adverbes pour désigner :- un moment plus ou moins proche :tout à l'heure- le moment indépendamment du moment où l'on parle :tôt, tard, de bonne heure...Il y a: indique un moment du passé.Depuis:indique une durée qui a commencé dans le passé et qui continue dans le présent.Quand le point de repère se situeà un autre moment que le présent, ces indicateurs temporels ont les équivalents suivants :AvantÀ ce moment-làAprèsLa veilleL'avant-veilleLe jour précédentQuelques jours auparavantL'année d'avantL'année précédenteAuparavantCe jour-làCette année-làA cette époque-làLe lendemainLe surlendemainLe jour suivantQuelques jours après/ plus tardL'année d'aprèsL'année suivanteDésormaisFaites le bon choix en vous référant aux termes temporels.\n",
            "Avant\n",
            "Maintenant / en ce moment\n",
            "Après\n",
            "Avant-hier (matin / après-midi/ soir)Hier (matin / après-midi/ soir)La semaine dernière/passéeLe mois dernier/passéL'année dernière/passéeIl y a ... jours/semaines/mois/annéesAutrefoisJadisIl y a longtemps...\n",
            "Aujourd'huiCe matinCet après-midiCe soirCette semaineCe mois-ciCette annéeActuellementDe nos jours...\n",
            "DemainAprès-demainLa semaine prochaineLe mois prochainL'année prochaineDans ... jours/semaines/mois/annéesA l'avenir...\n",
            "Avant\n",
            "À ce moment-là\n",
            "Après\n",
            "La veilleL'avant-veilleLe jour précédentQuelques jours auparavantL'année d'avantL'année précédenteAuparavant\n",
            "Ce jour-làCette année-làA cette époque-là\n",
            "Le lendemainLe surlendemainLe jour suivantQuelques jours après/ plus tardL'année d'aprèsL'année suivanteDésormais\n",
            "Avant\n",
            "Maintenant / en ce moment\n",
            "Après\n",
            "Avant-hier (matin / après-midi/ soir)Hier (matin / après-midi/ soir)La semaine dernière/passéeLe mois dernier/passéL'année dernière/passéeIl y a ... jours/semaines/mois/annéesAutrefoisJadisIl y a longtemps...\n",
            "Aujourd'huiCe matinCet après-midiCe soirCette semaineCe mois-ciCette annéeActuellementDe nos jours...\n",
            "DemainAprès-demainLa semaine prochaineLe mois prochainL'année prochaineDans ... jours/semaines/mois/annéesA l'avenir...\n",
            "Avant\n",
            "À ce moment-là\n",
            "Après\n",
            "La veilleL'avant-veilleLe jour précédentQuelques jours auparavantL'année d'avantL'année précédenteAuparavant\n",
            "Ce jour-làCette année-làA cette époque-là\n",
            "Le lendemainLe surlendemainLe jour suivantQuelques jours après/ plus tardL'année d'aprèsL'année suivanteDésormais\n"
          ]
        }
      ]
    },
    {
      "cell_type": "code",
      "source": [],
      "metadata": {
        "id": "i_iTYoZTW85t"
      },
      "execution_count": null,
      "outputs": []
    },
    {
      "cell_type": "code",
      "source": [
        "import requests\n",
        "from bs4 import BeautifulSoup\n",
        "\n",
        "# URL de la page\n",
        "url = \"https://www.francaisfacile.com/exercices/exercice-francais-2/exercice-francais-93204.php\"\n",
        "\n",
        "# Faire une requête GET pour obtenir le contenu de la page\n",
        "response = requests.get(url)\n",
        "html_content = response.content\n",
        "\n",
        "# Utiliser Beautiful Soup pour analyser le contenu HTML\n",
        "soup = BeautifulSoup(html_content, 'html.parser')\n",
        "\n",
        "# Trouver la première table dans le HTML\n",
        "table = soup.find('table', class_='mceItemTable')\n",
        "\n",
        "# Vérifier si la table a été trouvée\n",
        "if table:\n",
        "    # Ouvrir un fichier en mode écriture\n",
        "    with open('resultat.txt', 'w', encoding='utf-8') as f:\n",
        "        # Parcourir les lignes de la table\n",
        "        for row in table.find_all('tr'):\n",
        "            # Parcourir les cellules de chaque ligne\n",
        "            cells = row.find_all('td')\n",
        "            if len(cells) == 3:\n",
        "                cell1_content = cells[0].get_text(strip=True)\n",
        "                cell2_content = cells[1].get_text(strip=True)\n",
        "                cell3_content = cells[2].get_text(strip=True)\n",
        "\n",
        "                # Écrire le contenu des cellules dans le fichier\n",
        "                f.write(f\"Cellule 1 : {cell1_content}\\n\")\n",
        "                f.write(f\"Cellule 2 : {cell2_content}\\n\")\n",
        "                f.write(f\"Cellule 3 : {cell3_content}\\n\")\n",
        "                f.write(\"---\\n\")\n",
        "    print(\"Résultats enregistrés dans le fichier 'resultat.txt'.\")\n",
        "else:\n",
        "    print(\"Table non trouvée sur la page.\")\n"
      ],
      "metadata": {
        "colab": {
          "base_uri": "https://localhost:8080/"
        },
        "id": "sHGqcpyJLz4Q",
        "outputId": "0820652b-d7dd-4ee1-a621-ae45b12ac47f"
      },
      "execution_count": null,
      "outputs": [
        {
          "output_type": "stream",
          "name": "stdout",
          "text": [
            "Résultats enregistrés dans le fichier 'resultat.txt'.\n"
          ]
        }
      ]
    },
    {
      "cell_type": "code",
      "source": [
        "import pdfplumber\n",
        "\n",
        "# Chemin vers le fichier PDF\n",
        "pdf_path = \"/content/s1-phrases-a-trier.pdf\"\n",
        "\n",
        "# Fonction pour extraire le texte du PDF\n",
        "def extract_text_from_pdf(pdf_path):\n",
        "    with pdfplumber.open(pdf_path) as pdf:\n",
        "        text = \"\"\n",
        "        for page in pdf.pages:\n",
        "            text += page.extract_text()\n",
        "    return text\n",
        "\n",
        "# Appel de la fonction pour extraire le texte\n",
        "extracted_text = extract_text_from_pdf(pdf_path)\n",
        "\n",
        "# Chemin vers le fichier de sortie TXT\n",
        "output_txt_path = \"/content/extracted_textindicateurTemps.txt\"\n",
        "\n",
        "# Écriture du texte extrait dans le fichier TXT\n",
        "with open(output_txt_path, \"w\", encoding=\"utf-8\") as txt_file:\n",
        "    txt_file.write(extracted_text)\n",
        "\n",
        "print(\"Texte extrait enregistré dans\", output_txt_path)\n"
      ],
      "metadata": {
        "id": "gW1XkE91MsnD",
        "colab": {
          "base_uri": "https://localhost:8080/"
        },
        "outputId": "6312cbcf-7874-44a0-bc22-88f5afc19efe"
      },
      "execution_count": null,
      "outputs": [
        {
          "output_type": "stream",
          "name": "stdout",
          "text": [
            "Texte extrait enregistré dans /content/extracted_textindicateurTemps.txt\n"
          ]
        }
      ]
    },
    {
      "cell_type": "code",
      "source": [
        "import pdfplumber\n",
        "\n",
        "# Chemin vers le fichier PDF\n",
        "pdf_path = \"/content/les-termes-temporels-passé-présent-et-futur-madrassatii-com.pdf\"\n",
        "\n",
        "# Fonction pour extraire le texte du PDF\n",
        "def extract_text_from_pdf(pdf_path):\n",
        "    with pdfplumber.open(pdf_path) as pdf:\n",
        "        text = \"\"\n",
        "        for page in pdf.pages:\n",
        "            text += page.extract_text()\n",
        "    return text\n",
        "\n",
        "# Appel de la fonction pour extraire le texte\n",
        "extracted_text = extract_text_from_pdf(pdf_path)\n",
        "\n",
        "# Chemin vers le fichier de sortie TXT\n",
        "output_txt_path = \"/content/extracted_text.txt\"\n",
        "\n",
        "# Écriture du texte extrait dans le fichier TXT\n",
        "with open(output_txt_path, \"w\", encoding=\"utf-8\") as txt_file:\n",
        "    txt_file.write(extracted_text)\n",
        "\n",
        "print(\"Texte extrait enregistré dans\", output_txt_path)\n"
      ],
      "metadata": {
        "colab": {
          "base_uri": "https://localhost:8080/"
        },
        "id": "ncXj06jeNcPg",
        "outputId": "1b2474ab-b39e-4fbe-b747-37f5da0f8ee3"
      },
      "execution_count": null,
      "outputs": [
        {
          "output_type": "stream",
          "name": "stdout",
          "text": [
            "Texte extrait enregistré dans /content/extracted_text.txt\n"
          ]
        }
      ]
    },
    {
      "cell_type": "code",
      "source": [
        "import pdfplumber\n",
        "\n",
        "# Chemin vers le fichier PDF\n",
        "pdf_path = \"/content/s1-phrases-a-trier.pdf\"\n",
        "\n",
        "# Fonction pour extraire le texte du PDF\n",
        "def extract_text_from_pdf(pdf_path):\n",
        "    with pdfplumber.open(pdf_path) as pdf:\n",
        "        text = \"\"\n",
        "        for page in pdf.pages:\n",
        "            text += page.extract_text()\n",
        "    return text\n",
        "\n",
        "# Appel de la fonction pour extraire le texte\n",
        "extracted_text = extract_text_from_pdf(pdf_path)\n",
        "\n",
        "# Chemin vers le fichier de sortie TXT\n",
        "output_txt_path = \"/content/extracted_text22.txt\"\n",
        "\n",
        "# Écriture du texte extrait dans le fichier TXT\n",
        "with open(output_txt_path, \"w\", encoding=\"utf-8\") as txt_file:\n",
        "    txt_file.write(extracted_text)\n",
        "\n",
        "print(\"Texte extrait enregistré dans\", output_txt_path)\n"
      ],
      "metadata": {
        "id": "gFDrs4VrPHnx",
        "colab": {
          "base_uri": "https://localhost:8080/"
        },
        "outputId": "d08c5d65-1b55-48d0-b99b-59342772e44b"
      },
      "execution_count": null,
      "outputs": [
        {
          "output_type": "stream",
          "name": "stdout",
          "text": [
            "Texte extrait enregistré dans /content/extracted_text22.txt\n"
          ]
        }
      ]
    },
    {
      "cell_type": "markdown",
      "source": [
        "Etre et avoir au present"
      ],
      "metadata": {
        "id": "PTU7AMkewHan"
      }
    },
    {
      "cell_type": "code",
      "source": [
        "import requests\n",
        "from bs4 import BeautifulSoup\n",
        "\n",
        "# URL du site\n",
        "url = \"https://clicmaclasse.fr/le-present-des-verbes-etre-et-avoir/\"\n",
        "\n",
        "# Envoyer une requête GET pour récupérer la page web\n",
        "response = requests.get(url)\n",
        "\n",
        "# Vérifier si la requête a réussi\n",
        "if response.status_code == 200:\n",
        "    # Parser le contenu HTML de la page\n",
        "    soup = BeautifulSoup(response.text, \"html.parser\")\n",
        "\n",
        "    # Trouver tous les éléments <tr> dans la page\n",
        "    tr_elements = soup.find_all(\"tr\")\n",
        "\n",
        "    # Ouvrir un fichier .txt en mode écriture\n",
        "    with open(\"resultatetreavoirpresent.txt\", \"w\", encoding=\"utf-8\") as file:\n",
        "        # Ajouter la description au début du fichier\n",
        "        description = \"5eme année primaire français  Module 2 Apprenons à vivre ensemble conjugaison Conjuguer les verbes« être » et « avoir » au présent\\n\\n\"\n",
        "        file.write(description)\n",
        "\n",
        "        # Parcourir tous les éléments <tr>\n",
        "        for tr in tr_elements:\n",
        "            # Écrire le contenu de chaque <tr> dans le fichier .txt\n",
        "            file.write(tr.get_text() + \"\\n\")\n",
        "\n",
        "    print(\"Données extraites et enregistrées dans 'resultatetreavoirpresent.txt'.\")\n",
        "else:\n",
        "    print(\"La requête GET a échoué.\")\n"
      ],
      "metadata": {
        "colab": {
          "base_uri": "https://localhost:8080/"
        },
        "id": "sELTWCQewMor",
        "outputId": "5678ccf6-58cb-41c1-b7d8-957c287f4b23"
      },
      "execution_count": null,
      "outputs": [
        {
          "output_type": "stream",
          "name": "stdout",
          "text": [
            "Données extraites et enregistrées dans 'resultatetreavoirpresent.txt'.\n"
          ]
        }
      ]
    },
    {
      "cell_type": "markdown",
      "source": [
        "Etre et avoir au futur"
      ],
      "metadata": {
        "id": "RdF0qTKv0MLq"
      }
    },
    {
      "cell_type": "code",
      "source": [
        "import requests\n",
        "from bs4 import BeautifulSoup\n",
        "\n",
        "# URL du site\n",
        "url = \"https://clicmaclasse.fr/le-futur-des-verbes-etre-et-avoir/\"\n",
        "\n",
        "# Envoyer une requête GET pour récupérer la page web\n",
        "response = requests.get(url)\n",
        "\n",
        "# Vérifier si la requête a réussi\n",
        "if response.status_code == 200:\n",
        "    # Parser le contenu HTML de la page\n",
        "    soup = BeautifulSoup(response.text, \"html.parser\")\n",
        "\n",
        "    # Trouver le premier élément <tbody>\n",
        "    tbody = soup.find(\"tbody\")\n",
        "\n",
        "    if tbody:\n",
        "        # Trouver tous les éléments <tr> à l'intérieur du <tbody>\n",
        "        tr_elements = tbody.find_all(\"tr\")\n",
        "\n",
        "        # Ouvrir un fichier .txt en mode écriture\n",
        "        with open(\"resultatfutur.txt\", \"w\", encoding=\"utf-8\") as file:\n",
        "            # Ajouter la description au début du fichier\n",
        "            description = \"5eme année primaire français  Module 2 Apprenons à vivre ensemble conjugaison Conjuguer les verbes « être » et « avoir » au futur\\n\\n\"\n",
        "            file.write(description)\n",
        "\n",
        "            # Parcourir tous les éléments <tr>\n",
        "            for tr in tr_elements:\n",
        "                # Écrire le contenu de chaque <tr> dans le fichier .txt\n",
        "                file.write(tr.get_text() + \"\\n\")\n",
        "\n",
        "        print(\"Données extraites et enregistrées dans 'resultatfutur.txt'.\")\n",
        "    else:\n",
        "        print(\"Aucun élément <tbody> trouvé dans la page.\")\n",
        "else:\n",
        "    print(\"La requête GET a échoué.\")\n"
      ],
      "metadata": {
        "colab": {
          "base_uri": "https://localhost:8080/"
        },
        "id": "NdX05FWB0e6s",
        "outputId": "57ac3186-56ed-4a41-c8ed-ce5c06cc80b8"
      },
      "execution_count": null,
      "outputs": [
        {
          "output_type": "stream",
          "name": "stdout",
          "text": [
            "Données extraites et enregistrées dans 'resultatfutur.txt'.\n"
          ]
        }
      ]
    },
    {
      "cell_type": "markdown",
      "source": [
        "Des noms au pluriel\n",
        "avec « s» et avec « x »\n",
        "\n",
        "\n"
      ],
      "metadata": {
        "id": "uEg2Z2oa2UIk"
      }
    },
    {
      "cell_type": "code",
      "source": [
        "import csv\n",
        "from googlesearch import search\n",
        "import time\n",
        "\n",
        "# Fonction pour rechercher des fichiers PDF contenant des noms au pluriel avec \"s\" et \"x\"\n",
        "def search_plural_nouns_pdfs(query, num_results):\n",
        "    # Utiliser OR pour combiner les suffixes recherchés\n",
        "    search_query = f\"{query} au pluriel avec s OR {query} au pluriel avec x\"\n",
        "    search_results = search(search_query, num=num_results, lang='fr')\n",
        "    return search_results\n",
        "\n",
        "# Paramètres de recherche\n",
        "query = \"noms\"\n",
        "num_results = 500\n",
        "output_csv_filename = 'liens_noms_pluriel.csv'\n",
        "\n",
        "# Recherche de fichiers PDF\n",
        "pdf_links = search_plural_nouns_pdfs(query, num_results)\n",
        "\n",
        "# Liste pour stocker les liens\n",
        "pdf_links_list = []\n",
        "\n",
        "# Convertir le générateur en liste et ajouter une pause entre les requêtes\n",
        "for link in pdf_links:\n",
        "    pdf_links_list.append(link)\n",
        "    time.sleep(2)  # Pause de 2 secondes entre chaque requête\n",
        "\n",
        "# Sauvegarde des liens dans un fichier CSV\n",
        "with open(output_csv_filename, 'w', newline='', encoding='utf-8') as csv_file:\n",
        "    csv_writer = csv.writer(csv_file)\n",
        "    csv_writer.writerow(['Liens vers les Fichiers PDF'])\n",
        "    csv_writer.writerows([[link] for link in pdf_links_list])\n",
        "\n",
        "print(f\"{len(pdf_links_list)} liens vers des fichiers PDF contenant des noms au pluriel avec 's' ou 'x' ont été sauvegardés dans {output_csv_filename}\")\n"
      ],
      "metadata": {
        "colab": {
          "base_uri": "https://localhost:8080/"
        },
        "id": "X603mWHt2lfK",
        "outputId": "e033005f-fba1-41ac-a7c4-f671df61160a"
      },
      "execution_count": null,
      "outputs": [
        {
          "output_type": "stream",
          "name": "stdout",
          "text": [
            "98 liens vers des fichiers PDF contenant des noms au pluriel avec 's' ou 'x' ont été sauvegardés dans liens_noms_pluriel.csv\n"
          ]
        }
      ]
    },
    {
      "cell_type": "code",
      "source": [
        "import os\n",
        "import PyPDF2\n",
        "import pandas as pd\n",
        "import requests\n",
        "from IPython.display import FileLink, display\n",
        "from google.colab import drive\n",
        "\n",
        "# Installer PyCryptodome\n",
        "!pip install pycryptodome\n",
        "\n",
        "# Montez Google Drive\n",
        "drive.mount('/content/drive')\n",
        "\n",
        "# Chemin vers le fichier Excel contenant les liens des fichiers PDF\n",
        "excel_file_path = \"/content/lienpluriel5eme.xlsx\"\n",
        "\n",
        "# Charger le fichier Excel dans un DataFrame en spécifiant le moteur openpyxl\n",
        "xlsx_data = pd.read_excel(excel_file_path, engine='openpyxl')\n",
        "\n",
        "# Chemin vers le dossier local où vous souhaitez enregistrer les fichiers PDF téléchargés\n",
        "pdf_local_dir = \"/content/drive/MyDrive/FRPLuriel\"\n",
        "os.makedirs(pdf_local_dir, exist_ok=True)\n",
        "\n",
        "# Chemin vers le dossier local où vous souhaitez enregistrer les fichiers OCR\n",
        "output_local_dir = \"/content/drive/MyDrive/FROCRPluriel\"\n",
        "os.makedirs(output_local_dir, exist_ok=True)\n",
        "\n",
        "# Parcourir chaque ligne dans le DataFrame\n",
        "for index, row in xlsx_data.iterrows():\n",
        "    pdf_link = row['linkPDF']  # Assurez-vous que le nom de la colonne est correct\n",
        "    pdf_name = os.path.basename(pdf_link)\n",
        "    description = row['description']  # Valeur de la deuxième colonne\n",
        "\n",
        "    # Télécharger le fichier PDF\n",
        "    response = requests.get(pdf_link)\n",
        "    pdf_path = os.path.join(pdf_local_dir, pdf_name)\n",
        "    with open(pdf_path, 'wb') as file:\n",
        "        file.write(response.content)\n",
        "\n",
        "    # Lire le PDF et appliquer l'OCR\n",
        "    with open(pdf_path, 'rb') as file:\n",
        "        reader = PyPDF2.PdfReader(file)\n",
        "        for page_num in range(len(reader.pages)):\n",
        "            # Extraire le texte de la page\n",
        "            page = reader.pages[page_num]\n",
        "            text = page.extract_text()\n",
        "\n",
        "            # Écrire le texte extrait dans le fichier OCR avec la description en haut\n",
        "            output_path = os.path.join(output_local_dir, os.path.splitext(pdf_name)[0] + \"_page\" + str(page_num+1) + \".txt\")\n",
        "            with open(output_path, \"w\", encoding=\"utf-8\") as file:\n",
        "                file.write(\"description : \" + description + \"\\n\\n\")\n",
        "                file.write(text)\n",
        "\n",
        "            # Afficher un lien vers le fichier OCR\n",
        "            display(FileLink(output_path))\n"
      ],
      "metadata": {
        "colab": {
          "base_uri": "https://localhost:8080/",
          "height": 295
        },
        "id": "bPW4ItV3TP50",
        "outputId": "c03178c1-85b5-4447-861f-3d9ebb07c018"
      },
      "execution_count": null,
      "outputs": [
        {
          "output_type": "stream",
          "name": "stdout",
          "text": [
            "Collecting pycryptodome\n",
            "  Downloading pycryptodome-3.18.0-cp35-abi3-manylinux_2_17_x86_64.manylinux2014_x86_64.whl (2.1 MB)\n",
            "\u001b[2K     \u001b[90m━━━━━━━━━━━━━━━━━━━━━━━━━━━━━━━━━━━━━━━━\u001b[0m \u001b[32m2.1/2.1 MB\u001b[0m \u001b[31m8.2 MB/s\u001b[0m eta \u001b[36m0:00:00\u001b[0m\n",
            "\u001b[?25hInstalling collected packages: pycryptodome\n",
            "Successfully installed pycryptodome-3.18.0\n",
            "Mounted at /content/drive\n"
          ]
        },
        {
          "output_type": "display_data",
          "data": {
            "text/plain": [
              "/content/drive/MyDrive/FROCRPluriel/Les_regles_et_les_exceptions_sur_le_pluriel_des_noms_page1.txt"
            ],
            "text/html": [
              "<a href='/content/drive/MyDrive/FROCRPluriel/Les_regles_et_les_exceptions_sur_le_pluriel_des_noms_page1.txt' target='_blank'>/content/drive/MyDrive/FROCRPluriel/Les_regles_et_les_exceptions_sur_le_pluriel_des_noms_page1.txt</a><br>"
            ]
          },
          "metadata": {}
        },
        {
          "output_type": "display_data",
          "data": {
            "text/plain": [
              "/content/drive/MyDrive/FROCRPluriel/39068488_page1.txt"
            ],
            "text/html": [
              "<a href='/content/drive/MyDrive/FROCRPluriel/39068488_page1.txt' target='_blank'>/content/drive/MyDrive/FROCRPluriel/39068488_page1.txt</a><br>"
            ]
          },
          "metadata": {}
        },
        {
          "output_type": "display_data",
          "data": {
            "text/plain": [
              "/content/drive/MyDrive/FROCRPluriel/39068488_page2.txt"
            ],
            "text/html": [
              "<a href='/content/drive/MyDrive/FROCRPluriel/39068488_page2.txt' target='_blank'>/content/drive/MyDrive/FROCRPluriel/39068488_page2.txt</a><br>"
            ]
          },
          "metadata": {}
        },
        {
          "output_type": "display_data",
          "data": {
            "text/plain": [
              "/content/drive/MyDrive/FROCRPluriel/39068488_page3.txt"
            ],
            "text/html": [
              "<a href='/content/drive/MyDrive/FROCRPluriel/39068488_page3.txt' target='_blank'>/content/drive/MyDrive/FROCRPluriel/39068488_page3.txt</a><br>"
            ]
          },
          "metadata": {}
        },
        {
          "output_type": "display_data",
          "data": {
            "text/plain": [
              "/content/drive/MyDrive/FROCRPluriel/singulier-pluriel_corrige_page1.txt"
            ],
            "text/html": [
              "<a href='/content/drive/MyDrive/FROCRPluriel/singulier-pluriel_corrige_page1.txt' target='_blank'>/content/drive/MyDrive/FROCRPluriel/singulier-pluriel_corrige_page1.txt</a><br>"
            ]
          },
          "metadata": {}
        },
        {
          "output_type": "display_data",
          "data": {
            "text/plain": [
              "/content/drive/MyDrive/FROCRPluriel/singulier-pluriel_corrige_page2.txt"
            ],
            "text/html": [
              "<a href='/content/drive/MyDrive/FROCRPluriel/singulier-pluriel_corrige_page2.txt' target='_blank'>/content/drive/MyDrive/FROCRPluriel/singulier-pluriel_corrige_page2.txt</a><br>"
            ]
          },
          "metadata": {}
        },
        {
          "output_type": "display_data",
          "data": {
            "text/plain": [
              "/content/drive/MyDrive/FROCRPluriel/pluriel-des-noms_page1.txt"
            ],
            "text/html": [
              "<a href='/content/drive/MyDrive/FROCRPluriel/pluriel-des-noms_page1.txt' target='_blank'>/content/drive/MyDrive/FROCRPluriel/pluriel-des-noms_page1.txt</a><br>"
            ]
          },
          "metadata": {}
        },
        {
          "output_type": "display_data",
          "data": {
            "text/plain": [
              "/content/drive/MyDrive/FROCRPluriel/pluriel-des-noms_page2.txt"
            ],
            "text/html": [
              "<a href='/content/drive/MyDrive/FROCRPluriel/pluriel-des-noms_page2.txt' target='_blank'>/content/drive/MyDrive/FROCRPluriel/pluriel-des-noms_page2.txt</a><br>"
            ]
          },
          "metadata": {}
        },
        {
          "output_type": "display_data",
          "data": {
            "text/plain": [
              "/content/drive/MyDrive/FROCRPluriel/ortho_noms_en_ou_page1.txt"
            ],
            "text/html": [
              "<a href='/content/drive/MyDrive/FROCRPluriel/ortho_noms_en_ou_page1.txt' target='_blank'>/content/drive/MyDrive/FROCRPluriel/ortho_noms_en_ou_page1.txt</a><br>"
            ]
          },
          "metadata": {}
        },
        {
          "output_type": "display_data",
          "data": {
            "text/plain": [
              "/content/drive/MyDrive/FROCRPluriel/ortho_noms_en_ou_page2.txt"
            ],
            "text/html": [
              "<a href='/content/drive/MyDrive/FROCRPluriel/ortho_noms_en_ou_page2.txt' target='_blank'>/content/drive/MyDrive/FROCRPluriel/ortho_noms_en_ou_page2.txt</a><br>"
            ]
          },
          "metadata": {}
        }
      ]
    },
    {
      "cell_type": "code",
      "source": [
        "import requests\n",
        "from bs4 import BeautifulSoup\n",
        "\n",
        "# URL du site\n",
        "url = \"https://leconjugueur.lefigaro.fr/fr_pluriel_nom.php\"\n",
        "\n",
        "# Envoyer une requête GET pour récupérer la page web\n",
        "response = requests.get(url)\n",
        "\n",
        "# Vérifier si la requête a réussi\n",
        "if response.status_code == 200:\n",
        "    # Parser le contenu HTML de la page\n",
        "    soup = BeautifulSoup(response.text, \"html.parser\")\n",
        "\n",
        "    # Trouver le tableau dans la page en fonction de sa classe CSS\n",
        "    table = soup.find(\"table\")\n",
        "\n",
        "    if table:\n",
        "        # Ouvrir un fichier .txt en mode écriture\n",
        "        with open(\"resultat_pluriel_leconjugueur.txt\", \"w\", encoding=\"utf-8\") as file:\n",
        "            # Parcourir toutes les lignes du tableau\n",
        "            for row in table.find_all(\"tr\"):\n",
        "                # Récupérer le texte de chaque cellule de la ligne et le séparer par des tabulations\n",
        "                row_text = \"\\t\".join([cell.get_text() for cell in row.find_all(\"td\")])\n",
        "                # Écrire la ligne dans le fichier .txt\n",
        "                file.write(row_text + \"\\n\")\n",
        "\n",
        "        print(\"Contenu du tableau du site Le Conjugueur extrait et enregistré dans 'resultat_pluriel_leconjugueur.txt'.\")\n",
        "    else:\n",
        "        print(\"Aucun tableau trouvé dans la page.\")\n",
        "else:\n",
        "    print(\"La requête GET a échoué.\")\n"
      ],
      "metadata": {
        "colab": {
          "base_uri": "https://localhost:8080/"
        },
        "id": "vm57TsjlUDCN",
        "outputId": "5bdfbff2-738e-4239-d2b7-409908780d15"
      },
      "execution_count": null,
      "outputs": [
        {
          "output_type": "stream",
          "name": "stdout",
          "text": [
            "Contenu du tableau du site Le Conjugueur extrait et enregistré dans 'resultat_pluriel_leconjugueur.txt'.\n"
          ]
        }
      ]
    },
    {
      "cell_type": "code",
      "source": [
        "import requests\n",
        "from bs4 import BeautifulSoup\n",
        "\n",
        "# URL du site (remplacez \"URL_DU_SITE\" par l'URL réelle)\n",
        "url = \"https://fr.syvum.com/cgi/online/serve.cgi/grammaire/nombre/pluriel_noms_1.html?table\"  # Remplacez par votre URL\n",
        "\n",
        "# Envoyer une requête GET pour récupérer la page web\n",
        "response = requests.get(url)\n",
        "\n",
        "# Vérifier si la requête a réussi\n",
        "if response.status_code == 200:\n",
        "    # Parser le contenu HTML de la page\n",
        "    soup = BeautifulSoup(response.text, \"html.parser\")\n",
        "\n",
        "    # Trouver le tableau dans la page en fonction de sa classe CSS\n",
        "    table = soup.find(\"table\", class_=\"sortable\")\n",
        "\n",
        "    if table:\n",
        "        # Ouvrir un fichier .txt en mode écriture\n",
        "        with open(\"resultat_tableau.txt\", \"w\", encoding=\"utf-8\") as file:\n",
        "            # Parcourir toutes les lignes du tableau\n",
        "            for row in table.find_all(\"tr\"):\n",
        "                # Récupérer le texte de chaque cellule de la ligne et le séparer par des tabulations\n",
        "                row_text = \"\\t\".join([cell.get_text() for cell in row.find_all(\"td\")])\n",
        "                # Écrire la ligne dans le fichier .txt\n",
        "                file.write(row_text + \"\\n\")\n",
        "\n",
        "        print(\"Contenu du tableau extrait et enregistré dans 'resultat_tableau.txt'.\")\n",
        "    else:\n",
        "        print(\"Aucun tableau trouvé dans la page avec la classe 'sortable'. Assurez-vous de spécifier l'URL correcte.\")\n",
        "else:\n",
        "    print(\"La requête GET a échoué. Veuillez vérifier l'URL.\")\n"
      ],
      "metadata": {
        "colab": {
          "base_uri": "https://localhost:8080/"
        },
        "id": "H1UIUVQ8VEEL",
        "outputId": "173199a8-726f-46e7-d5cf-94ce4a4d29c5"
      },
      "execution_count": null,
      "outputs": [
        {
          "output_type": "stream",
          "name": "stdout",
          "text": [
            "Contenu du tableau extrait et enregistré dans 'resultat_tableau.txt'.\n"
          ]
        }
      ]
    },
    {
      "cell_type": "code",
      "source": [
        "import requests\n",
        "from bs4 import BeautifulSoup\n",
        "\n",
        "# URL du site web\n",
        "url = 'https://fr.syvum.com/cgi/online/serve.cgi/grammaire/nombre/pluriel_noms_1.html?table'\n",
        "\n",
        "# Effectuez une requête GET pour obtenir le contenu de la page\n",
        "response = requests.get(url)\n",
        "\n",
        "# Vérifiez si la requête a réussi\n",
        "if response.status_code == 200:\n",
        "    # Analysez le contenu HTML de la page\n",
        "    soup = BeautifulSoup(response.text, 'html.parser')\n",
        "\n",
        "    # Trouvez le tableau\n",
        "    table = soup.find('table', {'border': '1', 'cellpadding': '2', 'cellspacing': '2', 'align': 'center', 'class': 'sortable', 'id': 'sort'})\n",
        "\n",
        "    # Vérifiez si le tableau a été trouvé\n",
        "    if table:\n",
        "        # Ouvrez un fichier .txt pour écrire les données\n",
        "        with open('resultat.txt', 'w', encoding='utf-8') as file:\n",
        "            # Parcourez les lignes du tableau (tr)\n",
        "            rows = table.find_all('tr')\n",
        "\n",
        "            # Parcourez les lignes du tableau et extrayez les données\n",
        "            for row in rows[1:]:  # Ignorez la première ligne qui contient les en-têtes\n",
        "                # Obtenez les cellules de chaque ligne (td)\n",
        "                cells = row.find_all('td')\n",
        "\n",
        "                if len(cells) == 2:  # Assurez-vous qu'il y a deux cellules par ligne\n",
        "                    singular = cells[0].text.strip()\n",
        "                    plural = cells[1].text.strip()\n",
        "                    line = f'Nom singulier : {singular}, Nom pluriel : {plural}\\n'\n",
        "                    file.write(line)\n",
        "\n",
        "        print(\"Les données ont été extraites et enregistrées dans 'resultat.txt'.\")\n",
        "    else:\n",
        "        print(\"Tableau non trouvé sur le site web.\")\n",
        "else:\n",
        "    print(\"La requête HTTP a échoué.\")\n",
        "\n"
      ],
      "metadata": {
        "colab": {
          "base_uri": "https://localhost:8080/"
        },
        "id": "tngGXFHUXguf",
        "outputId": "305910d4-f085-4f34-b209-f712822c617f"
      },
      "execution_count": null,
      "outputs": [
        {
          "output_type": "stream",
          "name": "stdout",
          "text": [
            "Les données ont été extraites et enregistrées dans 'resultat.txt'.\n"
          ]
        }
      ]
    },
    {
      "cell_type": "code",
      "source": [
        "from PyPDF2 import PdfReader\n",
        "\n",
        "# Remplacez \"votre_fichier.pdf\" par le chemin vers votre fichier PDF\n",
        "pdf_file_path = \"/content/allo_plu_n_071Allophones.pdf\"\n",
        "\n",
        "# Remplacez \"resultat.txt\" par le nom du fichier .txt de sortie\n",
        "output_txt_file = \"resultatppluriel2.txt\"\n",
        "\n",
        "# Page de départ (page 13)\n",
        "start_page = 13\n",
        "\n",
        "# Ouvrir le fichier PDF\n",
        "pdf_reader = PdfReader(pdf_file_path)\n",
        "\n",
        "# Vérifier si la page de départ est valide\n",
        "if start_page >= 0 and start_page < len(pdf_reader.pages):\n",
        "    # Ouvrir le fichier .txt en mode écriture\n",
        "    with open(output_txt_file, 'w', encoding='utf-8') as txt_file:\n",
        "        # Parcourir les pages du PDF de la page de départ jusqu'à la fin\n",
        "        for page_num in range(start_page, len(pdf_reader.pages)):\n",
        "            # Extraire le texte de la page\n",
        "            page = pdf_reader.pages[page_num]\n",
        "            text = page.extract_text()\n",
        "\n",
        "            # Écrire le texte extrait dans le fichier .txt\n",
        "            txt_file.write(text)\n",
        "\n",
        "    print(f\"Les pages {start_page} à la dernière page ont été extraites et enregistrées dans '{output_txt_file}'.\")\n",
        "else:\n",
        "    print(\"La page de départ spécifiée est invalide.\")\n"
      ],
      "metadata": {
        "colab": {
          "base_uri": "https://localhost:8080/"
        },
        "id": "gMUx4frcZszh",
        "outputId": "713dd920-b461-4340-9ea6-6116287f20c8"
      },
      "execution_count": null,
      "outputs": [
        {
          "output_type": "stream",
          "name": "stdout",
          "text": [
            "Les pages 13 à la dernière page ont été extraites et enregistrées dans 'resultatppluriel2.txt'.\n"
          ]
        }
      ]
    },
    {
      "cell_type": "markdown",
      "source": [],
      "metadata": {
        "id": "m9tAGRr7vETC"
      }
    },
    {
      "cell_type": "code",
      "source": [],
      "metadata": {
        "id": "NpKj_aPqvJF5"
      },
      "execution_count": null,
      "outputs": []
    }
  ]
}